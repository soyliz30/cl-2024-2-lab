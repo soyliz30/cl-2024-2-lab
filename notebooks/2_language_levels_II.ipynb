{
 "cells": [
  {
   "cell_type": "markdown",
   "id": "653e1cdc-39aa-491b-ac9c-dee3c15d5105",
   "metadata": {},
   "source": [
    "# 2. Niveles lingüísticos II"
   ]
  },
  {
   "cell_type": "markdown",
   "id": "ced35c23-7151-4ecd-8cd0-ed2256870344",
   "metadata": {
    "id": "9oXMYHTYaDYx"
   },
   "source": [
    "## Objetivos"
   ]
  },
  {
   "cell_type": "markdown",
   "id": "de7444a2-3637-44ce-b16e-f673a64b97d6",
   "metadata": {},
   "source": [
    "- Los alumnæs comprenderán la importancia de las etiquetas *POS* en tareas de _NLP_\n",
    "- Implementar un modelo de etiquetado automático\n",
    "  - Usando modelos discriminativos _HMMs_\n",
    "  - Usando modelos condicionales _CRFs_\n",
    "  - Contrastar ambos enfoques para generación automática de secuencias de etiquetas"
   ]
  },
  {
   "cell_type": "markdown",
   "id": "bbeaffdc-fcc6-438e-af33-05f72dc12608",
   "metadata": {},
   "source": [
    "## Etiquetas _Part Of Speech (POS)_"
   ]
  },
  {
   "cell_type": "markdown",
   "id": "0162f4a3-5c9b-4fc7-8bca-b1d88a1d5089",
   "metadata": {
    "id": "dt-jPjzJFNds"
   },
   "source": [
    "- Etiquetas que hacen explicita la funcion gramatical de las palabras en una oración\n",
    "- Determina la función de la palabra dentro la oración (por ello se le llama Partes del Discurso)\n",
    "- Se le conoce tambien como Análisis morfosintáctico: es el puente entre la estructura de las palabras y la sintaxis\n",
    "- Permiten el desarrollo de herramientas de NLP más avanzadas"
   ]
  },
  {
   "cell_type": "markdown",
   "id": "6346c86e-4807-43a8-a879-9a4382acd730",
   "metadata": {},
   "source": [
    "<center><img src=\"https://byteiota.com/wp-content/uploads/2021/01/POS-Tagging.jpg\" height=500 width=500></center>"
   ]
  },
  {
   "cell_type": "markdown",
   "id": "aed87f79-ba05-4bc7-9a76-885f8d1c2050",
   "metadata": {
    "id": "WUIvvMr6bNeu"
   },
   "source": [
    "### Categorias comúnes\n",
    "\n",
    "- Sustantivos - (NOUN)\n",
    "- Adjetivos - (ADV)\n",
    "- Verbos - (VERB)"
   ]
  },
  {
   "cell_type": "markdown",
   "id": "0034147f-bbbd-41ce-9089-09a6042558a4",
   "metadata": {},
   "source": [
    "#### Ejemplo\n",
    "\n",
    "> El gato negro rie malvadamente\n",
    "\n",
    "- El - DET\n",
    "- gato - NOUN\n",
    "- negro - ADJ\n",
    "- ríe - VERB"
   ]
  },
  {
   "cell_type": "markdown",
   "id": "5c380f7d-3339-4531-9b04-5880c5e7a7c9",
   "metadata": {},
   "source": [
    "<center><img src=\"https://i.pinimg.com/originals/0e/f1/30/0ef130b255ea704625b2ad473701dee5.gif\"></center>"
   ]
  },
  {
   "cell_type": "markdown",
   "id": "f34dd31b-a451-44d4-967a-4297db3d6b34",
   "metadata": {
    "id": "W5g2ApRnjZnf"
   },
   "source": [
    "### Materia prima de otras tareas de NLP\n",
    "\n",
    "- Named entity recognition (NER)\n",
    "- Statistical language models\n",
    "- Text generation\n",
    "- Sentient analysis"
   ]
  },
  {
   "cell_type": "markdown",
   "id": "35e6c854-0a58-4103-b3ca-7c46db7cee2e",
   "metadata": {
    "id": "uKwrc_Xaj22I"
   },
   "source": [
    "## Etiquetado automático POS (*POS tagging*)\n",
    "\n",
    "- El etiquetado POS es una tarea del NLP dónde se le asigna de forma automática una etiqueta según su función a cada palabra tomando en cuenta el contexto de la oración.\n",
    "\n",
    "- En esta tarea se toma en cuenta cierta estructura de la oración.\n",
    "\n",
    "- En un enfoque probabilístico queremos obtener: $P(\\overrightarrow{x},\\overrightarrow{y})$\n",
    "\n",
    "\n",
    "donde:\n",
    "- $\\overrightarrow{x}$ = $<x_1,x_2,...,x_n>$\n",
    "- $\\overrightarrow{y}$ = $<y_1,y_2,...,y_n>$\n",
    "- $x_i = palabra$ y $y_i = etiqueta\\ POS$"
   ]
  },
  {
   "cell_type": "markdown",
   "id": "024b5f83-c75f-42c0-aeee-581eba631139",
   "metadata": {
    "id": "JBzFK9SAH6hV"
   },
   "source": [
    "### Un primer acercamiento: Hidden Markov Models (HMM)"
   ]
  },
  {
   "cell_type": "markdown",
   "id": "7612b03a-9459-446f-8c8b-e7d6c1f4c3d1",
   "metadata": {},
   "source": [
    "<center><img src=\"https://www.davidsbatista.net/assets/images/2017-11-11-HMM.png\"></center>"
   ]
  },
  {
   "cell_type": "markdown",
   "id": "ea22a5d1-67d9-480c-a34e-bd719f2362ab",
   "metadata": {
    "id": "-YA6DKKs0j56"
   },
   "source": [
    "$p(\\overrightarrow{x},\\overrightarrow{y}) = \\displaystyle\\prod_{i=1}^{n} p(y_i|y_{i-1}) ⋅ p(x_i|y_i)$\n",
    "\n",
    "Donde:\n",
    "- $\\overrightarrow{y} = secuencia\\ de\\ etiquetas\\ POS$\n",
    "- $\\overrightarrow{x} = secuencia\\ de\\ palabras$"
   ]
  },
  {
   "cell_type": "markdown",
   "id": "665e263e-d88d-4621-a462-fc3b5eca91ec",
   "metadata": {
    "id": "lwniYz-j2Ej7"
   },
   "source": [
    "### Suposición de Markov\n",
    "\n",
    "> \"The probability of a particular state is dependent only on the previous state\""
   ]
  },
  {
   "cell_type": "markdown",
   "id": "a47611a3-90d2-4fa6-978b-09bdb28ce992",
   "metadata": {
    "id": "MiPzNOLKySbX"
   },
   "source": [
    "#### Características"
   ]
  },
  {
   "cell_type": "markdown",
   "id": "0a802bd2-ebbf-4b2d-b2c0-3b09f5a4856a",
   "metadata": {},
   "source": [
    "- Clasificador secuencial\n",
    "    - Dada una secuencia de entrada se predice la secuencia de salida más probable\n",
    "    - Se apreden los parámetros de secuencias previamente etiquetadas"
   ]
  },
  {
   "cell_type": "markdown",
   "id": "f974702e-340d-4a1f-8e1e-ef79fdffa334",
   "metadata": {},
   "source": [
    "### Componentes del framework HMM"
   ]
  },
  {
   "cell_type": "markdown",
   "id": "96806030-3d6c-4841-ad1b-b8a36a2034ff",
   "metadata": {},
   "source": [
    "\n",
    "- Estados (etiquetas): $T = t_1,t_2,...,t_n$\n",
    "- Observaciones (palabras): $W = w_1,w_2,...,w_n$\n",
    "- Estados iniciales y finales"
   ]
  },
  {
   "cell_type": "markdown",
   "id": "4506b8f0-f3a0-45db-96a0-ea867ca0097f",
   "metadata": {},
   "source": [
    "#### Probabilidades asociadas a estados"
   ]
  },
  {
   "cell_type": "markdown",
   "id": "0f5d7f2d-2a62-41a5-919d-060091bdcf14",
   "metadata": {},
   "source": [
    "- Matriz $A$ con las probabilidades de ir de un estado a otro\n",
    "- Matriz $B$ con las probabilidades de que una observasión se genera a partir de un estado\n",
    "- Probabilidades asociadas a los estados iniciales y finales"
   ]
  },
  {
   "cell_type": "markdown",
   "id": "f473d7fd-a336-4332-8fc6-8c8f8aa9a87a",
   "metadata": {
    "id": "XJSFXH7b3N9j"
   },
   "source": [
    "### ¿Qué soluciona HMM?"
   ]
  },
  {
   "cell_type": "markdown",
   "id": "91287c81-23d9-49d4-ad43-90843f32a3ca",
   "metadata": {},
   "source": [
    "1. Aprender parámetros asociados con una secuencia de observación dada (training step)\n",
    "    - Dada una lista de palabras y sus etiquetas POS asociadas, el modelo aprende la estructura dada\n",
    "2. Aplicar un modelo HMM previamente entrenado\n",
    "    - Dada una nueva oración nunca antes vista, se puede **predecir** la etiqueta POS asociada a cada palabra de dicha oración usando la estructura aprendida"
   ]
  },
  {
   "cell_type": "markdown",
   "id": "37eb06c3-7ffd-49e1-8157-beb88988773c",
   "metadata": {
    "id": "C-_s-yK86opL"
   },
   "source": [
    "## Implementación"
   ]
  },
  {
   "cell_type": "markdown",
   "id": "eed565dc-1bf1-417c-bfeb-c42acb9989c3",
   "metadata": {
    "id": "7Xiezqna6vi-"
   },
   "source": [
    "### 0. Instalación de dependencias"
   ]
  },
  {
   "cell_type": "code",
   "execution_count": null,
   "id": "387e20fa-fb58-48fc-ae0d-2dfa9f1efb1a",
   "metadata": {
    "colab": {
     "base_uri": "https://localhost:8080/"
    },
    "executionInfo": {
     "elapsed": 11455,
     "status": "ok",
     "timestamp": 1693860035522,
     "user": {
      "displayName": "Diego Alberto Barriga Martínez",
      "userId": "06235177150913802056"
     },
     "user_tz": 360
    },
    "id": "zpTBn7Iy6oCU",
    "outputId": "902331e7-619c-45db-940e-d34830de78cf"
   },
   "outputs": [],
   "source": [
    "!pip install nltk\n",
    "!pip install scikit-learn"
   ]
  },
  {
   "cell_type": "code",
   "execution_count": 66,
   "id": "63ce106d-fc5d-4727-90b1-5eb9ce2fc940",
   "metadata": {
    "colab": {
     "base_uri": "https://localhost:8080/"
    },
    "executionInfo": {
     "elapsed": 467,
     "status": "ok",
     "timestamp": 1693867172255,
     "user": {
      "displayName": "Diego Alberto Barriga Martínez",
      "userId": "06235177150913802056"
     },
     "user_tz": 360
    },
    "id": "Tbj3AJbc7X5r",
    "outputId": "9f9d7afd-4846-40e3-be8e-d79a46608340"
   },
   "outputs": [
    {
     "name": "stderr",
     "output_type": "stream",
     "text": [
      "[nltk_data] Downloading package cess_esp to\n",
      "[nltk_data]     /home/umoqnier/nltk_data...\n",
      "[nltk_data]   Package cess_esp is already up-to-date!\n"
     ]
    },
    {
     "data": {
      "text/plain": [
       "True"
      ]
     },
     "execution_count": 66,
     "metadata": {},
     "output_type": "execute_result"
    }
   ],
   "source": [
    "import nltk\n",
    "\n",
    "# Descargando el corpus cess_esp: https://www.nltk.org/book/ch02.html#tab-corpora\n",
    "nltk.download('cess_esp')"
   ]
  },
  {
   "cell_type": "code",
   "execution_count": 67,
   "id": "b8491647-e181-4d49-b1f0-a93169791000",
   "metadata": {
    "colab": {
     "base_uri": "https://localhost:8080/"
    },
    "executionInfo": {
     "elapsed": 175,
     "status": "ok",
     "timestamp": 1693867245777,
     "user": {
      "displayName": "Diego Alberto Barriga Martínez",
      "userId": "06235177150913802056"
     },
     "user_tz": 360
    },
    "id": "0L9cXPJF7pkF",
    "outputId": "14da1d55-2ccc-4133-8608-e8a3792836ce"
   },
   "outputs": [],
   "source": [
    "from nltk.corpus import cess_esp\n",
    "# Cargando oraciones\n",
    "corpora = cess_esp.tagged_sents()"
   ]
  },
  {
   "cell_type": "code",
   "execution_count": 68,
   "id": "42c2712d-9f8a-43c0-8020-d51876aa8e1c",
   "metadata": {},
   "outputs": [
    {
     "data": {
      "text/plain": [
       "[('El', 'da0ms0'),\n",
       " ('grupo', 'ncms000'),\n",
       " ('estatal', 'aq0cs0'),\n",
       " ('Electricité_de_France', 'np00000'),\n",
       " ('-Fpa-', 'Fpa'),\n",
       " ('EDF', 'np00000'),\n",
       " ('-Fpt-', 'Fpt'),\n",
       " ('anunció', 'vmis3s0'),\n",
       " ('hoy', 'rg'),\n",
       " (',', 'Fc'),\n",
       " ('jueves', 'W'),\n",
       " (',', 'Fc'),\n",
       " ('la', 'da0fs0'),\n",
       " ('compra', 'ncfs000'),\n",
       " ('del', 'spcms'),\n",
       " ('51_por_ciento', 'Zp'),\n",
       " ('de', 'sps00'),\n",
       " ('la', 'da0fs0'),\n",
       " ('empresa', 'ncfs000'),\n",
       " ('mexicana', 'aq0fs0'),\n",
       " ('Electricidad_Águila_de_Altamira', 'np00000'),\n",
       " ('-Fpa-', 'Fpa'),\n",
       " ('EAA', 'np00000'),\n",
       " ('-Fpt-', 'Fpt'),\n",
       " (',', 'Fc'),\n",
       " ('creada', 'aq0fsp'),\n",
       " ('por', 'sps00'),\n",
       " ('el', 'da0ms0'),\n",
       " ('japonés', 'aq0ms0'),\n",
       " ('Mitsubishi_Corporation', 'np00000'),\n",
       " ('para', 'sps00'),\n",
       " ('poner_en_marcha', 'vmn0000'),\n",
       " ('una', 'di0fs0'),\n",
       " ('central', 'ncfs000'),\n",
       " ('de', 'sps00'),\n",
       " ('gas', 'ncms000'),\n",
       " ('de', 'sps00'),\n",
       " ('495', 'Z'),\n",
       " ('megavatios', 'ncmp000'),\n",
       " ('.', 'Fp')]"
      ]
     },
     "execution_count": 68,
     "metadata": {},
     "output_type": "execute_result"
    }
   ],
   "source": [
    "corpora[0]"
   ]
  },
  {
   "cell_type": "code",
   "execution_count": 69,
   "id": "cfe1278c-1817-44ec-899f-dd493c61e8da",
   "metadata": {
    "id": "xmLXk83x83Y7"
   },
   "outputs": [],
   "source": [
    "import requests\n",
    "\n",
    "def get_tags_map():\n",
    "    tags_raw = requests.get(\"https://gist.githubusercontent.com/vitojph/39c52c709a9aff2d1d24588aba7f8155/raw/af2d83bc4c2a7e2e6dbb01bd0a10a23a3a21a551/universal_tagset-ES.map\").text.split(\"\\n\")\n",
    "    tags_map = {line.split(\"\\t\")[0].lower(): line.split(\"\\t\")[1] for line in tags_raw}\n",
    "    return tags_map\n",
    "\n",
    "def map_tag(tag: str, tags_map=get_tags_map()) -> str:\n",
    "    return tags_map.get(tag.lower(), \"N/F\")\n",
    "\n",
    "def parse_tags(corpora: list[list[tuple]]) -> list[list[tuple]]:\n",
    "    result = []\n",
    "    for sentence in corpora:\n",
    "        result.append([(word, map_tag(tag)) for word, tag in sentence])\n",
    "    return result"
   ]
  },
  {
   "cell_type": "code",
   "execution_count": null,
   "id": "86c69750-d888-4c23-8fb1-b08474941b94",
   "metadata": {},
   "outputs": [],
   "source": []
  },
  {
   "cell_type": "code",
   "execution_count": 70,
   "id": "90531393-fd68-4eb2-bf08-b986d0f667fc",
   "metadata": {
    "colab": {
     "base_uri": "https://localhost:8080/"
    },
    "executionInfo": {
     "elapsed": 5297,
     "status": "ok",
     "timestamp": 1693867505990,
     "user": {
      "displayName": "Diego Alberto Barriga Martínez",
      "userId": "06235177150913802056"
     },
     "user_tz": 360
    },
    "id": "zfZri7-086rF",
    "outputId": "ed23a4dc-e141-4a37-f73e-768ad9a40b2c"
   },
   "outputs": [],
   "source": [
    "corpora = parse_tags(corpora)"
   ]
  },
  {
   "cell_type": "code",
   "execution_count": 71,
   "id": "9212ef51-027c-48f6-b03d-244e55adb556",
   "metadata": {
    "colab": {
     "base_uri": "https://localhost:8080/"
    },
    "executionInfo": {
     "elapsed": 168,
     "status": "ok",
     "timestamp": 1693867527259,
     "user": {
      "displayName": "Diego Alberto Barriga Martínez",
      "userId": "06235177150913802056"
     },
     "user_tz": 360
    },
    "id": "7KTAjDYfXxpj",
    "outputId": "53bd397e-2cdf-47d8-b72c-cbc88256a0dd"
   },
   "outputs": [
    {
     "data": {
      "text/plain": [
       "[('El', 'DET'),\n",
       " ('grupo', 'NOUN'),\n",
       " ('estatal', 'ADJ'),\n",
       " ('Electricité_de_France', 'NOUN'),\n",
       " ('-Fpa-', '.'),\n",
       " ('EDF', 'NOUN'),\n",
       " ('-Fpt-', '.'),\n",
       " ('anunció', 'VERB'),\n",
       " ('hoy', 'ADV'),\n",
       " (',', '.'),\n",
       " ('jueves', 'NOUN'),\n",
       " (',', '.'),\n",
       " ('la', 'DET'),\n",
       " ('compra', 'NOUN'),\n",
       " ('del', 'ADP'),\n",
       " ('51_por_ciento', 'NUM'),\n",
       " ('de', 'ADP'),\n",
       " ('la', 'DET'),\n",
       " ('empresa', 'NOUN'),\n",
       " ('mexicana', 'ADJ'),\n",
       " ('Electricidad_Águila_de_Altamira', 'NOUN'),\n",
       " ('-Fpa-', '.'),\n",
       " ('EAA', 'NOUN'),\n",
       " ('-Fpt-', '.'),\n",
       " (',', '.'),\n",
       " ('creada', 'ADJ'),\n",
       " ('por', 'ADP'),\n",
       " ('el', 'DET'),\n",
       " ('japonés', 'ADJ'),\n",
       " ('Mitsubishi_Corporation', 'NOUN'),\n",
       " ('para', 'ADP'),\n",
       " ('poner_en_marcha', 'VERB'),\n",
       " ('una', 'DET'),\n",
       " ('central', 'NOUN'),\n",
       " ('de', 'ADP'),\n",
       " ('gas', 'NOUN'),\n",
       " ('de', 'ADP'),\n",
       " ('495', 'NUM'),\n",
       " ('megavatios', 'NOUN'),\n",
       " ('.', '.')]"
      ]
     },
     "execution_count": 71,
     "metadata": {},
     "output_type": "execute_result"
    }
   ],
   "source": [
    "corpora[0]"
   ]
  },
  {
   "cell_type": "code",
   "execution_count": 72,
   "id": "9aa05cda-6e9e-45b8-ae55-5b8b6bf0f9ed",
   "metadata": {
    "colab": {
     "base_uri": "https://localhost:8080/"
    },
    "executionInfo": {
     "elapsed": 152,
     "status": "ok",
     "timestamp": 1693867542231,
     "user": {
      "displayName": "Diego Alberto Barriga Martínez",
      "userId": "06235177150913802056"
     },
     "user_tz": 360
    },
    "id": "kQyppkSK73kt",
    "outputId": "fb2c1daa-abd3-4997-8b71-6ba4e10bceb3"
   },
   "outputs": [
    {
     "data": {
      "text/plain": [
       "6030"
      ]
     },
     "execution_count": 72,
     "metadata": {},
     "output_type": "execute_result"
    }
   ],
   "source": [
    "# ¿Cuantas oraciones tenemos disponibles?\n",
    "len(corpora)"
   ]
  },
  {
   "cell_type": "code",
   "execution_count": 75,
   "id": "96a67752-b8be-4086-aa10-9695447a9e32",
   "metadata": {
    "id": "VsK4UwMA792K"
   },
   "outputs": [],
   "source": [
    "from sklearn.model_selection import train_test_split\n",
    "# Separando en dos conjuntos, uno para entrenamiento y otro para pruebas\n",
    "train_data, test_data = train_test_split(corpora, test_size=0.3, random_state=42)"
   ]
  },
  {
   "cell_type": "code",
   "execution_count": 76,
   "id": "b273ab0e-bec5-4065-a32e-9b0932ce8f7f",
   "metadata": {},
   "outputs": [
    {
     "data": {
      "text/plain": [
       "(4221, 1809)"
      ]
     },
     "execution_count": 76,
     "metadata": {},
     "output_type": "execute_result"
    }
   ],
   "source": [
    "# Comprobemos la longitud de la data\n",
    "len(train_data), len(test_data)"
   ]
  },
  {
   "cell_type": "code",
   "execution_count": 78,
   "id": "86f3abf3-700a-44dd-9855-f86f3edc1d58",
   "metadata": {},
   "outputs": [
    {
     "data": {
      "text/plain": [
       "True"
      ]
     },
     "execution_count": 78,
     "metadata": {},
     "output_type": "execute_result"
    }
   ],
   "source": [
    "len(train_data) + len(test_data) == len(corpora)"
   ]
  },
  {
   "cell_type": "markdown",
   "id": "f56f2d8a-a958-41a5-8338-402e021f8bd2",
   "metadata": {
    "id": "xUsAlAZn8QWV"
   },
   "source": [
    "### 2. Entrenamiento"
   ]
  },
  {
   "cell_type": "code",
   "execution_count": 79,
   "id": "8c48195a-7c60-4e71-b442-e91bb8c35908",
   "metadata": {
    "id": "hTGfZ-Ea8SIM"
   },
   "outputs": [],
   "source": [
    "from nltk.tag import hmm\n",
    "\n",
    "# Creando el modelo HMM usando nltk\n",
    "trainer = hmm.HiddenMarkovModelTrainer()\n",
    "\n",
    "# Hora de entrenar\n",
    "hmm_model = trainer.train(train_data)"
   ]
  },
  {
   "cell_type": "markdown",
   "id": "eb62d63d-c2e4-45f0-a40c-8f7a8bc119c4",
   "metadata": {
    "id": "GUGBIl5n-pe-"
   },
   "source": [
    "### 3. Resultados"
   ]
  },
  {
   "cell_type": "code",
   "execution_count": 80,
   "id": "37b1e142-419e-4cec-89aa-57f86946c7f8",
   "metadata": {
    "id": "57seCaeC-sbL"
   },
   "outputs": [
    {
     "name": "stderr",
     "output_type": "stream",
     "text": [
      "/home/umoqnier/.cache/pypoetry/virtualenvs/cl-2024-2-lab-wPHbJWRN-py3.9/lib/python3.9/site-packages/nltk/tag/hmm.py:334: RuntimeWarning: overflow encountered in cast\n",
      "  X[i, j] = self._transitions[si].logprob(self._states[j])\n",
      "/home/umoqnier/.cache/pypoetry/virtualenvs/cl-2024-2-lab-wPHbJWRN-py3.9/lib/python3.9/site-packages/nltk/tag/hmm.py:336: RuntimeWarning: overflow encountered in cast\n",
      "  O[i, k] = self._output_logprob(si, self._symbols[k])\n",
      "/home/umoqnier/.cache/pypoetry/virtualenvs/cl-2024-2-lab-wPHbJWRN-py3.9/lib/python3.9/site-packages/nltk/tag/hmm.py:364: RuntimeWarning: overflow encountered in cast\n",
      "  O[i, k] = self._output_logprob(si, self._symbols[k])\n"
     ]
    }
   ],
   "source": [
    "tagged_test_data = hmm_model.tag_sents([[word for word, _ in sent] for sent in test_data])"
   ]
  },
  {
   "cell_type": "code",
   "execution_count": 81,
   "id": "c17c0a27-10cc-471c-9414-edc14196e90a",
   "metadata": {},
   "outputs": [
    {
     "data": {
      "text/plain": [
       "[('El', 'DET'),\n",
       " ('técnico', 'NOUN'),\n",
       " ('barcelonista', 'ADJ'),\n",
       " ('ha', 'VERB'),\n",
       " ('asegurado', 'VERB'),\n",
       " ('que', 'CONJ'),\n",
       " ('la', 'DET'),\n",
       " ('visita', 'NOUN'),\n",
       " ('de', 'ADP'),\n",
       " ('Gaspart', 'ADP'),\n",
       " ('ha', 'ADP'),\n",
       " ('contribuido', 'ADP'),\n",
       " ('a', 'ADP'),\n",
       " ('\"', 'ADP'),\n",
       " ('sumar', 'ADP'),\n",
       " ('\"', 'ADP'),\n",
       " (',', 'ADP'),\n",
       " ('y', 'ADP'),\n",
       " ('*0*', 'ADP'),\n",
       " ('ha', 'ADP'),\n",
       " ('argumentado', 'ADP'),\n",
       " ('que', 'ADP'),\n",
       " ('el', 'ADP'),\n",
       " ('encuentro', 'ADP'),\n",
       " ('con', 'ADP'),\n",
       " ('el', 'ADP'),\n",
       " ('presidente', 'ADP'),\n",
       " ('significa', 'ADP'),\n",
       " ('que', 'ADP'),\n",
       " ('en', 'ADP'),\n",
       " ('el', 'ADP'),\n",
       " ('Barcelona', 'ADP'),\n",
       " ('\"', 'ADP'),\n",
       " ('todos', 'ADP'),\n",
       " ('van', 'ADP'),\n",
       " ('en', 'ADP'),\n",
       " ('la', 'ADP'),\n",
       " ('misma', 'ADP'),\n",
       " ('dirección', 'ADP'),\n",
       " ('\"', 'ADP'),\n",
       " ('.', 'ADP')]"
      ]
     },
     "execution_count": 81,
     "metadata": {},
     "output_type": "execute_result"
    }
   ],
   "source": [
    "tagged_test_data[0]"
   ]
  },
  {
   "cell_type": "code",
   "execution_count": 82,
   "id": "1d5eac33-21bd-4573-b620-b3f9ff811dfc",
   "metadata": {
    "id": "7LCK8-U0-9aC"
   },
   "outputs": [],
   "source": [
    "# Extrayendo tags verdaderas vs tags predichas\n",
    "y_true = [tag for sent in test_data for _, tag in sent]\n",
    "y_pred = [tag for sent in tagged_test_data for _, tag in sent]"
   ]
  },
  {
   "cell_type": "code",
   "execution_count": 83,
   "id": "5e762540-a403-4fdd-a8e2-dd183f5e8587",
   "metadata": {},
   "outputs": [
    {
     "data": {
      "text/plain": [
       "['DET', 'NOUN', 'ADJ']"
      ]
     },
     "execution_count": 83,
     "metadata": {},
     "output_type": "execute_result"
    }
   ],
   "source": [
    "y_true[:3]"
   ]
  },
  {
   "cell_type": "code",
   "execution_count": 84,
   "id": "d958ab99-4d0b-4da8-be0c-160fb0d102a0",
   "metadata": {},
   "outputs": [
    {
     "data": {
      "text/plain": [
       "['DET', 'NOUN', 'ADJ']"
      ]
     },
     "execution_count": 84,
     "metadata": {},
     "output_type": "execute_result"
    }
   ],
   "source": [
    "y_pred[:3]"
   ]
  },
  {
   "cell_type": "code",
   "execution_count": 85,
   "id": "3d4f0e05-6ffc-4a4c-b6c6-a81c6eb4f99b",
   "metadata": {},
   "outputs": [],
   "source": [
    "from collections import defaultdict\n",
    "\n",
    "def report_accuracy(y_true: list, y_pred: list) -> defaultdict:\n",
    "\n",
    "    label_accuracy_counts = defaultdict(lambda: {\"correct\": 0, \"total\": 0})\n",
    "\n",
    "    for gold_tag, predicted_tag in zip(y_true, y_pred):\n",
    "        label_accuracy_counts[gold_tag][\"total\"] += 1\n",
    "        if gold_tag == predicted_tag:\n",
    "            label_accuracy_counts[gold_tag][\"correct\"] += 1\n",
    "    \n",
    "    # Calculate and display the accuracy for each label\n",
    "    print(\"Label\\tAccuracy\")\n",
    "    for label, counts in label_accuracy_counts.items():\n",
    "        accuracy = counts[\"correct\"] / counts[\"total\"] if counts[\"total\"] > 0 else 0.0\n",
    "        print(f\"{label}\\t{accuracy * 100:.2f}%\")\n",
    "    return label_accuracy_counts"
   ]
  },
  {
   "cell_type": "code",
   "execution_count": 86,
   "id": "e9196c74-8aaa-4cde-9475-3357b8938cbf",
   "metadata": {},
   "outputs": [
    {
     "name": "stdout",
     "output_type": "stream",
     "text": [
      "Label\tAccuracy\n",
      "DET\t32.70%\n",
      "NOUN\t26.55%\n",
      "ADJ\t21.27%\n",
      "VERB\t27.80%\n",
      "CONJ\t25.55%\n",
      "ADP\t99.91%\n",
      ".\t21.80%\n",
      "PRON\t27.66%\n",
      "ADV\t33.62%\n",
      "NUM\t14.90%\n",
      "X\t0.00%\n"
     ]
    }
   ],
   "source": [
    "label_accuracy_counts = report_accuracy(y_true, y_pred)"
   ]
  },
  {
   "cell_type": "code",
   "execution_count": 87,
   "id": "2fe56aea-4378-4bd1-858d-6c039ef40cb2",
   "metadata": {},
   "outputs": [
    {
     "name": "stderr",
     "output_type": "stream",
     "text": [
      "[nltk_data] Downloading package punkt to /home/umoqnier/nltk_data...\n",
      "[nltk_data]   Package punkt is already up-to-date!\n"
     ]
    },
    {
     "data": {
      "text/plain": [
       "True"
      ]
     },
     "execution_count": 87,
     "metadata": {},
     "output_type": "execute_result"
    }
   ],
   "source": [
    "nltk.download('punkt')ADP"
   ]
  },
  {
   "cell_type": "code",
   "execution_count": 92,
   "id": "78b8b9b5-5c8a-4fc0-b54f-7fd758ea8ece",
   "metadata": {
    "colab": {
     "base_uri": "https://localhost:8080/"
    },
    "executionInfo": {
     "elapsed": 162,
     "status": "ok",
     "timestamp": 1693868244870,
     "user": {
      "displayName": "Diego Alberto Barriga Martínez",
      "userId": "06235177150913802056"
     },
     "user_tz": 360
    },
    "id": "WNd1YcakDXOV",
    "outputId": "5338c714-4e6c-4864-8b85-0e28f7d0efae"
   },
   "outputs": [
    {
     "name": "stdout",
     "output_type": "stream",
     "text": [
      "Palabra \tPOS Tag (predicha)\n",
      "La\tDET\n",
      "muchacha\tADP\n",
      "vio\tADP\n",
      "al\tADP\n",
      "dinosaurio\tADP\n",
      "con\tADP\n",
      "el\tADP\n",
      "telescopio\tADP\n"
     ]
    }
   ],
   "source": [
    "#unseen_sentence = \"La casa es grande y luminosa.\"\n",
    "unseen_sentence = \"La muchacha vio al dinosaurio con el telescopio\"\n",
    "#unseen_sentence = \"El gato rie malvadamente\"\n",
    "\n",
    "# Tokenizando\n",
    "tokenized_sentence = nltk.word_tokenize(unseen_sentence)\n",
    "\n",
    "# Haciendo predicciones\n",
    "predicted_tags = [tag for word, tag in hmm_model.tag(tokenized_sentence)]\n",
    "\n",
    "print(\"Palabra \\tPOS Tag (predicha)\")\n",
    "for word, tag in zip(tokenized_sentence, predicted_tags):\n",
    "    print(f\"{word}\\t{tag}\")"
   ]
  },
  {
   "cell_type": "markdown",
   "id": "d874f539-41ea-48ea-b8d9-6ee3aa888fec",
   "metadata": {},
   "source": [
    "### Comparando con modelos pre-entrenados"
   ]
  },
  {
   "cell_type": "markdown",
   "id": "aca5beba-8ccd-4bfc-9461-5259612a6d2a",
   "metadata": {},
   "source": [
    "- [Model information](https://spacy.io/models/es)"
   ]
  },
  {
   "cell_type": "code",
   "execution_count": null,
   "id": "8d4bffb4-7f1c-4f1b-9237-1e72c742ce5d",
   "metadata": {
    "scrolled": true
   },
   "outputs": [],
   "source": [
    "!python -m spacy download es_core_news_sm"
   ]
  },
  {
   "cell_type": "code",
   "execution_count": 93,
   "id": "3584dae7-ec50-409c-9885-b95cecf91318",
   "metadata": {},
   "outputs": [
    {
     "name": "stdout",
     "output_type": "stream",
     "text": [
      "[('La', 'DET'), ('muchacha', 'NOUN'), ('vio', 'VERB'), ('al', 'ADP'), ('dinosaurio', 'NOUN'), ('con', 'ADP'), ('el', 'DET'), ('telescopio', 'NOUN')]\n"
     ]
    }
   ],
   "source": [
    "import spacy\n",
    "# spacy.cli.download(\"\") # Direct from python\n",
    "\n",
    "nlp = spacy.load(\"es_core_news_sm\")\n",
    "doc = nlp(unseen_sentence)\n",
    "print([(w.text, w.pos_) for w in doc])"
   ]
  },
  {
   "cell_type": "code",
   "execution_count": 94,
   "id": "c6d7b5ba-7cf7-4bae-9cd5-0f89e2359f31",
   "metadata": {},
   "outputs": [
    {
     "data": {
      "text/html": [
       "<span class=\"tex2jax_ignore\"><svg xmlns=\"http://www.w3.org/2000/svg\" xmlns:xlink=\"http://www.w3.org/1999/xlink\" xml:lang=\"es\" id=\"341c06e01a924d04bd817c73061c423f-0\" class=\"displacy\" width=\"1450\" height=\"399.5\" direction=\"ltr\" style=\"max-width: none; height: 399.5px; color: #000000; background: #ffffff; font-family: Arial; direction: ltr\">\n",
       "<text class=\"displacy-token\" fill=\"currentColor\" text-anchor=\"middle\" y=\"309.5\">\n",
       "    <tspan class=\"displacy-word\" fill=\"currentColor\" x=\"50\">La</tspan>\n",
       "    <tspan class=\"displacy-tag\" dy=\"2em\" fill=\"currentColor\" x=\"50\">DET</tspan>\n",
       "</text>\n",
       "\n",
       "<text class=\"displacy-token\" fill=\"currentColor\" text-anchor=\"middle\" y=\"309.5\">\n",
       "    <tspan class=\"displacy-word\" fill=\"currentColor\" x=\"225\">muchacha</tspan>\n",
       "    <tspan class=\"displacy-tag\" dy=\"2em\" fill=\"currentColor\" x=\"225\">NOUN</tspan>\n",
       "</text>\n",
       "\n",
       "<text class=\"displacy-token\" fill=\"currentColor\" text-anchor=\"middle\" y=\"309.5\">\n",
       "    <tspan class=\"displacy-word\" fill=\"currentColor\" x=\"400\">vio</tspan>\n",
       "    <tspan class=\"displacy-tag\" dy=\"2em\" fill=\"currentColor\" x=\"400\">VERB</tspan>\n",
       "</text>\n",
       "\n",
       "<text class=\"displacy-token\" fill=\"currentColor\" text-anchor=\"middle\" y=\"309.5\">\n",
       "    <tspan class=\"displacy-word\" fill=\"currentColor\" x=\"575\">al</tspan>\n",
       "    <tspan class=\"displacy-tag\" dy=\"2em\" fill=\"currentColor\" x=\"575\">ADP</tspan>\n",
       "</text>\n",
       "\n",
       "<text class=\"displacy-token\" fill=\"currentColor\" text-anchor=\"middle\" y=\"309.5\">\n",
       "    <tspan class=\"displacy-word\" fill=\"currentColor\" x=\"750\">dinosaurio</tspan>\n",
       "    <tspan class=\"displacy-tag\" dy=\"2em\" fill=\"currentColor\" x=\"750\">NOUN</tspan>\n",
       "</text>\n",
       "\n",
       "<text class=\"displacy-token\" fill=\"currentColor\" text-anchor=\"middle\" y=\"309.5\">\n",
       "    <tspan class=\"displacy-word\" fill=\"currentColor\" x=\"925\">con</tspan>\n",
       "    <tspan class=\"displacy-tag\" dy=\"2em\" fill=\"currentColor\" x=\"925\">ADP</tspan>\n",
       "</text>\n",
       "\n",
       "<text class=\"displacy-token\" fill=\"currentColor\" text-anchor=\"middle\" y=\"309.5\">\n",
       "    <tspan class=\"displacy-word\" fill=\"currentColor\" x=\"1100\">el</tspan>\n",
       "    <tspan class=\"displacy-tag\" dy=\"2em\" fill=\"currentColor\" x=\"1100\">DET</tspan>\n",
       "</text>\n",
       "\n",
       "<text class=\"displacy-token\" fill=\"currentColor\" text-anchor=\"middle\" y=\"309.5\">\n",
       "    <tspan class=\"displacy-word\" fill=\"currentColor\" x=\"1275\">telescopio</tspan>\n",
       "    <tspan class=\"displacy-tag\" dy=\"2em\" fill=\"currentColor\" x=\"1275\">NOUN</tspan>\n",
       "</text>\n",
       "\n",
       "<g class=\"displacy-arrow\">\n",
       "    <path class=\"displacy-arc\" id=\"arrow-341c06e01a924d04bd817c73061c423f-0-0\" stroke-width=\"2px\" d=\"M70,264.5 C70,177.0 215.0,177.0 215.0,264.5\" fill=\"none\" stroke=\"currentColor\"/>\n",
       "    <text dy=\"1.25em\" style=\"font-size: 0.8em; letter-spacing: 1px\">\n",
       "        <textPath xlink:href=\"#arrow-341c06e01a924d04bd817c73061c423f-0-0\" class=\"displacy-label\" startOffset=\"50%\" side=\"left\" fill=\"currentColor\" text-anchor=\"middle\">det</textPath>\n",
       "    </text>\n",
       "    <path class=\"displacy-arrowhead\" d=\"M70,266.5 L62,254.5 78,254.5\" fill=\"currentColor\"/>\n",
       "</g>\n",
       "\n",
       "<g class=\"displacy-arrow\">\n",
       "    <path class=\"displacy-arc\" id=\"arrow-341c06e01a924d04bd817c73061c423f-0-1\" stroke-width=\"2px\" d=\"M245,264.5 C245,177.0 390.0,177.0 390.0,264.5\" fill=\"none\" stroke=\"currentColor\"/>\n",
       "    <text dy=\"1.25em\" style=\"font-size: 0.8em; letter-spacing: 1px\">\n",
       "        <textPath xlink:href=\"#arrow-341c06e01a924d04bd817c73061c423f-0-1\" class=\"displacy-label\" startOffset=\"50%\" side=\"left\" fill=\"currentColor\" text-anchor=\"middle\">nsubj</textPath>\n",
       "    </text>\n",
       "    <path class=\"displacy-arrowhead\" d=\"M245,266.5 L237,254.5 253,254.5\" fill=\"currentColor\"/>\n",
       "</g>\n",
       "\n",
       "<g class=\"displacy-arrow\">\n",
       "    <path class=\"displacy-arc\" id=\"arrow-341c06e01a924d04bd817c73061c423f-0-2\" stroke-width=\"2px\" d=\"M595,264.5 C595,177.0 740.0,177.0 740.0,264.5\" fill=\"none\" stroke=\"currentColor\"/>\n",
       "    <text dy=\"1.25em\" style=\"font-size: 0.8em; letter-spacing: 1px\">\n",
       "        <textPath xlink:href=\"#arrow-341c06e01a924d04bd817c73061c423f-0-2\" class=\"displacy-label\" startOffset=\"50%\" side=\"left\" fill=\"currentColor\" text-anchor=\"middle\">case</textPath>\n",
       "    </text>\n",
       "    <path class=\"displacy-arrowhead\" d=\"M595,266.5 L587,254.5 603,254.5\" fill=\"currentColor\"/>\n",
       "</g>\n",
       "\n",
       "<g class=\"displacy-arrow\">\n",
       "    <path class=\"displacy-arc\" id=\"arrow-341c06e01a924d04bd817c73061c423f-0-3\" stroke-width=\"2px\" d=\"M420,264.5 C420,89.5 745.0,89.5 745.0,264.5\" fill=\"none\" stroke=\"currentColor\"/>\n",
       "    <text dy=\"1.25em\" style=\"font-size: 0.8em; letter-spacing: 1px\">\n",
       "        <textPath xlink:href=\"#arrow-341c06e01a924d04bd817c73061c423f-0-3\" class=\"displacy-label\" startOffset=\"50%\" side=\"left\" fill=\"currentColor\" text-anchor=\"middle\">obj</textPath>\n",
       "    </text>\n",
       "    <path class=\"displacy-arrowhead\" d=\"M745.0,266.5 L753.0,254.5 737.0,254.5\" fill=\"currentColor\"/>\n",
       "</g>\n",
       "\n",
       "<g class=\"displacy-arrow\">\n",
       "    <path class=\"displacy-arc\" id=\"arrow-341c06e01a924d04bd817c73061c423f-0-4\" stroke-width=\"2px\" d=\"M945,264.5 C945,89.5 1270.0,89.5 1270.0,264.5\" fill=\"none\" stroke=\"currentColor\"/>\n",
       "    <text dy=\"1.25em\" style=\"font-size: 0.8em; letter-spacing: 1px\">\n",
       "        <textPath xlink:href=\"#arrow-341c06e01a924d04bd817c73061c423f-0-4\" class=\"displacy-label\" startOffset=\"50%\" side=\"left\" fill=\"currentColor\" text-anchor=\"middle\">case</textPath>\n",
       "    </text>\n",
       "    <path class=\"displacy-arrowhead\" d=\"M945,266.5 L937,254.5 953,254.5\" fill=\"currentColor\"/>\n",
       "</g>\n",
       "\n",
       "<g class=\"displacy-arrow\">\n",
       "    <path class=\"displacy-arc\" id=\"arrow-341c06e01a924d04bd817c73061c423f-0-5\" stroke-width=\"2px\" d=\"M1120,264.5 C1120,177.0 1265.0,177.0 1265.0,264.5\" fill=\"none\" stroke=\"currentColor\"/>\n",
       "    <text dy=\"1.25em\" style=\"font-size: 0.8em; letter-spacing: 1px\">\n",
       "        <textPath xlink:href=\"#arrow-341c06e01a924d04bd817c73061c423f-0-5\" class=\"displacy-label\" startOffset=\"50%\" side=\"left\" fill=\"currentColor\" text-anchor=\"middle\">det</textPath>\n",
       "    </text>\n",
       "    <path class=\"displacy-arrowhead\" d=\"M1120,266.5 L1112,254.5 1128,254.5\" fill=\"currentColor\"/>\n",
       "</g>\n",
       "\n",
       "<g class=\"displacy-arrow\">\n",
       "    <path class=\"displacy-arc\" id=\"arrow-341c06e01a924d04bd817c73061c423f-0-6\" stroke-width=\"2px\" d=\"M420,264.5 C420,2.0 1275.0,2.0 1275.0,264.5\" fill=\"none\" stroke=\"currentColor\"/>\n",
       "    <text dy=\"1.25em\" style=\"font-size: 0.8em; letter-spacing: 1px\">\n",
       "        <textPath xlink:href=\"#arrow-341c06e01a924d04bd817c73061c423f-0-6\" class=\"displacy-label\" startOffset=\"50%\" side=\"left\" fill=\"currentColor\" text-anchor=\"middle\">obl</textPath>\n",
       "    </text>\n",
       "    <path class=\"displacy-arrowhead\" d=\"M1275.0,266.5 L1283.0,254.5 1267.0,254.5\" fill=\"currentColor\"/>\n",
       "</g>\n",
       "</svg></span>"
      ],
      "text/plain": [
       "<IPython.core.display.HTML object>"
      ]
     },
     "metadata": {},
     "output_type": "display_data"
    }
   ],
   "source": [
    "from spacy import displacy\n",
    "displacy.render(doc, style=\"dep\", jupyter=True)"
   ]
  },
  {
   "cell_type": "code",
   "execution_count": 95,
   "id": "8e20cce4-0ec0-489e-9a89-511ae7b6f703",
   "metadata": {},
   "outputs": [],
   "source": [
    "test_sentences = [\" \".join([word for word, _ in sent]) for sent in test_data][:10]"
   ]
  },
  {
   "cell_type": "code",
   "execution_count": 96,
   "id": "33f30297-cc12-4302-aeac-55907d106f99",
   "metadata": {},
   "outputs": [],
   "source": [
    "docs = [nlp(sent) for sent in test_sentences]"
   ]
  },
  {
   "cell_type": "code",
   "execution_count": 97,
   "id": "4382a24e-a547-4304-abb6-a336e3da78dd",
   "metadata": {},
   "outputs": [
    {
     "name": "stdout",
     "output_type": "stream",
     "text": [
      "\n",
      "[('El', 'DET'), ('técnico', 'NOUN'), ('barcelonista', 'ADJ'), ('ha', 'AUX'), ('asegurado', 'VERB'), ('que', 'SCONJ'), ('la', 'DET'), ('visita', 'NOUN'), ('de', 'ADP'), ('Gaspart', 'PROPN'), ('ha', 'AUX'), ('contribuido', 'VERB'), ('a', 'ADP'), ('\"', 'PUNCT'), ('sumar', 'VERB'), ('\"', 'PUNCT'), (',', 'PUNCT'), ('y', 'CCONJ'), ('*', 'PRON'), ('0', 'NUM'), ('*', 'NOUN'), ('ha', 'AUX'), ('argumentado', 'VERB'), ('que', 'SCONJ'), ('el', 'DET'), ('encuentro', 'NOUN'), ('con', 'ADP'), ('el', 'DET'), ('presidente', 'NOUN'), ('significa', 'VERB'), ('que', 'SCONJ'), ('en', 'ADP'), ('el', 'DET'), ('Barcelona', 'PROPN'), ('\"', 'PUNCT'), ('todos', 'PRON'), ('van', 'VERB'), ('en', 'ADP'), ('la', 'DET'), ('misma', 'DET'), ('dirección', 'NOUN'), ('\"', 'PUNCT'), ('.', 'PUNCT')]\n"
     ]
    }
   ],
   "source": [
    "for doc in docs[:1]:\n",
    "    print()\n",
    "    print([(w.text, w.pos_) for w in doc])"
   ]
  },
  {
   "cell_type": "code",
   "execution_count": 98,
   "id": "b75bb1c4-a1f5-4139-8635-d00c06a46e9e",
   "metadata": {},
   "outputs": [
    {
     "data": {
      "text/plain": [
       "[('El', 'DET'),\n",
       " ('técnico', 'NOUN'),\n",
       " ('barcelonista', 'ADJ'),\n",
       " ('ha', 'VERB'),\n",
       " ('asegurado', 'VERB'),\n",
       " ('que', 'CONJ'),\n",
       " ('la', 'DET'),\n",
       " ('visita', 'NOUN'),\n",
       " ('de', 'ADP'),\n",
       " ('Gaspart', 'ADP'),\n",
       " ('ha', 'ADP'),\n",
       " ('contribuido', 'ADP'),\n",
       " ('a', 'ADP'),\n",
       " ('\"', 'ADP'),\n",
       " ('sumar', 'ADP'),\n",
       " ('\"', 'ADP'),\n",
       " (',', 'ADP'),\n",
       " ('y', 'ADP'),\n",
       " ('*0*', 'ADP'),\n",
       " ('ha', 'ADP'),\n",
       " ('argumentado', 'ADP'),\n",
       " ('que', 'ADP'),\n",
       " ('el', 'ADP'),\n",
       " ('encuentro', 'ADP'),\n",
       " ('con', 'ADP'),\n",
       " ('el', 'ADP'),\n",
       " ('presidente', 'ADP'),\n",
       " ('significa', 'ADP'),\n",
       " ('que', 'ADP'),\n",
       " ('en', 'ADP'),\n",
       " ('el', 'ADP'),\n",
       " ('Barcelona', 'ADP'),\n",
       " ('\"', 'ADP'),\n",
       " ('todos', 'ADP'),\n",
       " ('van', 'ADP'),\n",
       " ('en', 'ADP'),\n",
       " ('la', 'ADP'),\n",
       " ('misma', 'ADP'),\n",
       " ('dirección', 'ADP'),\n",
       " ('\"', 'ADP'),\n",
       " ('.', 'ADP')]"
      ]
     },
     "execution_count": 98,
     "metadata": {},
     "output_type": "execute_result"
    }
   ],
   "source": [
    "tagged_test_data[0]"
   ]
  },
  {
   "cell_type": "code",
   "execution_count": 99,
   "id": "223f368a-1129-4504-a01b-aac54c9123fb",
   "metadata": {},
   "outputs": [],
   "source": [
    "y_spacy_pred = []\n",
    "for doc in docs:\n",
    "    y_spacy_pred.extend([word.pos_ for word in doc])"
   ]
  },
  {
   "cell_type": "code",
   "execution_count": 100,
   "id": "51a64efe-a3df-4a4a-82fc-805bee2f9814",
   "metadata": {},
   "outputs": [
    {
     "data": {
      "text/plain": [
       "['DET', 'NOUN', 'ADJ']"
      ]
     },
     "execution_count": 100,
     "metadata": {},
     "output_type": "execute_result"
    }
   ],
   "source": [
    "y_spacy_pred[:3]"
   ]
  },
  {
   "cell_type": "code",
   "execution_count": 101,
   "id": "417c6671-cf1c-486e-9a77-ef2776ee432f",
   "metadata": {},
   "outputs": [
    {
     "name": "stdout",
     "output_type": "stream",
     "text": [
      "Label\tAccuracy\n",
      "DET\t18.87%\n",
      "NOUN\t22.95%\n",
      "ADJ\t11.76%\n",
      "VERB\t10.00%\n",
      "CONJ\t0.00%\n",
      "ADP\t16.00%\n",
      ".\t0.00%\n",
      "PRON\t0.00%\n",
      "ADV\t0.00%\n",
      "NUM\t0.00%\n"
     ]
    }
   ],
   "source": [
    "label_count = report_accuracy(y_true, y_spacy_pred)"
   ]
  },
  {
   "cell_type": "code",
   "execution_count": 102,
   "id": "055e2038-f990-4015-bff8-29abdd0d807d",
   "metadata": {},
   "outputs": [
    {
     "data": {
      "text/plain": [
       "defaultdict(<function __main__.report_accuracy.<locals>.<lambda>()>,\n",
       "            {'DET': {'correct': 10, 'total': 53},\n",
       "             'NOUN': {'correct': 14, 'total': 61},\n",
       "             'ADJ': {'correct': 2, 'total': 17},\n",
       "             'VERB': {'correct': 4, 'total': 40},\n",
       "             'CONJ': {'correct': 0, 'total': 20},\n",
       "             'ADP': {'correct': 8, 'total': 50},\n",
       "             '.': {'correct': 0, 'total': 38},\n",
       "             'PRON': {'correct': 0, 'total': 14},\n",
       "             'ADV': {'correct': 0, 'total': 13},\n",
       "             'NUM': {'correct': 0, 'total': 4}})"
      ]
     },
     "execution_count": 102,
     "metadata": {},
     "output_type": "execute_result"
    }
   ],
   "source": [
    "label_count"
   ]
  },
  {
   "cell_type": "markdown",
   "id": "d161146c-8f18-4701-a542-d7b5fde2e07b",
   "metadata": {
    "id": "Cp8VDw_e2V8h"
   },
   "source": [
    "### ¿Limitaciones?"
   ]
  },
  {
   "cell_type": "markdown",
   "id": "4d04ee2f-026c-480d-8a24-1014444222a0",
   "metadata": {
    "id": "G2Q8_X09DU11"
   },
   "source": [
    "- Cada estado depende exclusivamente de su predecesor inmediato\n",
    "    - Dependencias limitadas\n",
    "- Cada observación depende exclusivamente del estado actual\n",
    "- Probabilidades estáticas\n",
    "    - Ejemplo, si veo un par de tags `(V) -> (S)` no importa si esta al inicio, en medio o al final de la oración la probabilidad siempre será la misma"
   ]
  },
  {
   "cell_type": "markdown",
   "id": "333ed2f4-6778-4868-b4e2-9466237f3c39",
   "metadata": {
    "id": "fjZiNvDQJdNe"
   },
   "source": [
    "![](https://3.bp.blogspot.com/-pPGGqs462yw/T1ol64kj9uI/AAAAAAAAAKI/CDCiH1IJodE/w1200-h630-p-k-nu/patricio.jpg)"
   ]
  },
  {
   "cell_type": "markdown",
   "id": "a6220650-70dc-43d0-b96d-1855191b6ba0",
   "metadata": {
    "id": "VYeFJTnWIAE-"
   },
   "source": [
    "## Sobrepasando las fronteras: _Conditional Random Fields (CRFs)_"
   ]
  },
  {
   "cell_type": "markdown",
   "id": "8f3322b0-3c85-4e04-8d05-c789a4896dce",
   "metadata": {
    "id": "bGqFxkrrDv--"
   },
   "source": [
    "### Características"
   ]
  },
  {
   "cell_type": "markdown",
   "id": "723f0a25-0496-492d-809f-5ea60ac2f0f3",
   "metadata": {
    "id": "8fBmDJyXD4M5"
   },
   "source": [
    "- Modelo de gráficas **no dirigido**. Generaliza los *HMM*\n",
    "    - Adiós a la *Markov assuption*\n",
    "    - Podemos tener cualquier dependencia que queramos entre nodos\n",
    "    - Nos enfocaremos en un tipo en concreto: *LinearChain-CRFs* ¡¿Por?!\n",
    "\n",
    "<center><img src=\"https://i.kym-cdn.com/entries/icons/original/000/032/676/Unlimited_Power_Banner.jpg\"></center>\n"
   ]
  },
  {
   "cell_type": "markdown",
   "id": "9ec93a7e-fd39-441e-b772-60c04ad2f16f",
   "metadata": {
    "id": "PnqSl8ugH3HL"
   },
   "source": [
    "- Modela la probabilidad **condicional** $P(Y|X)$\n",
    "    - Modelo discriminativo\n",
    "    - No importa como fueron generados los datos\n",
    "    - Probabilidad de un estado oculto dada **toda** la secuecia de entrada\n",
    "![homer](https://media.tenor.com/ul0qAKNUm2kAAAAd/hiding-meme.gif)"
   ]
  },
  {
   "cell_type": "markdown",
   "id": "2dbba559-2285-4b26-b613-2e221b7afa01",
   "metadata": {
    "id": "uY69eW0qH4p0"
   },
   "source": [
    "- Captura mayor **número de dependencias** entre las palabras y captura más características\n",
    "    - Estas se definen en las *feature functions* 🙀\n",
    "- El entrenamiento se realiza aplicando gradiente decendente y optimización con algoritmos como [L-BFGS](https://en.wikipedia.org/wiki/Limited-memory_BFGS)\n",
    "\n",
    "\n",
    "<center><img src=\"https://iameo.github.io/images/gradient-descent-400.gif\"></center>\n"
   ]
  },
  {
   "cell_type": "markdown",
   "id": "74e1d57b-c9b4-42bc-8e37-475820ad1db4",
   "metadata": {
    "id": "auzUHc0aNr63"
   },
   "source": [
    "### Linear-chain CRFs"
   ]
  },
  {
   "cell_type": "markdown",
   "id": "4f06c598-83cf-4a1e-842d-95d6c5457a11",
   "metadata": {
    "id": "LaxC_MOHISgG"
   },
   "source": [
    "$P(\\overrightarrow{y}|\\overrightarrow{x}) = \\frac{1}{Z} \\displaystyle\\prod_{i=1}^N exp\\{w^T ⋅ \\phi(y_{i-1}, y_i, \\overrightarrow{x}, i)\\}$\n",
    "\n",
    "Donde:\n",
    "- $\\overrightarrow{y}$ = Etiquetas POS\n",
    "- $\\overrightarrow{x}$ = Palabras en una oración\n",
    "- $w^T$ = Vector de pesos a aprender\n",
    "- $\\phi$ = Vector de *Features*\n",
    "    - Calculado con base en un conjunto de *feature functions*\n",
    "- $i$ = la posición actual en la oración\n",
    "- $Z$ = factor de normalización"
   ]
  },
  {
   "cell_type": "markdown",
   "id": "4c5436e1-c8e8-4f57-b4ae-792724ce5b33",
   "metadata": {
    "id": "8pm5OxtuP8mm"
   },
   "source": [
    "![linearchain_crf.png](https://www.davidsbatista.net/assets/images/2017-11-13-Conditional_Random_Fields.png)\n",
    "\n",
    "Tomado de https://www.davidsbatista.net/blog/2017/11/13/Conditional_Random_Fields/"
   ]
  },
  {
   "cell_type": "markdown",
   "id": "fff3371f-9903-4bb3-9b01-570ef2d13249",
   "metadata": {
    "id": "yPFL1WWVVTeV"
   },
   "source": [
    "### Feature functions $\\phi(y_{i-1}, y_i, \\overrightarrow{x}, i)$\n",
    "\n",
    "- Parte fundamental de los CRFs\n",
    "- Cuatro argumentos:\n",
    "    - Todos los datos observables $\\overrightarrow{x}$ (conectar $x$ con cualquier $y$)\n",
    "    - El estado oculto anterior $y_{i-1}$\n",
    "    - El estado oculto actual $y_i$\n",
    "    - El index del timestamp $i$\n",
    "        - Cada feature list puede tener diferentes formas"
   ]
  },
  {
   "cell_type": "markdown",
   "id": "053d99f1-ace5-4b7b-821b-f7b0932722e0",
   "metadata": {
    "id": "BMMjlAPHPmCi"
   },
   "source": [
    "- Aqui es donde esta la flexibilidad del modelo\n",
    "- Tantas features como querramos, las que consideremos que pueden ayudar a que el modelo tenga un mejor desempeño\n",
    "    - Intimamente ligadas a la lengua. Para mejor desempeño se debe hacer un análisis de sus características.\n",
    "- Ejemplo:\n",
    "\n",
    "```python\n",
    "[\n",
    "    \"word.lower()\",\n",
    "    \"EOS\",\n",
    "    \"BOS\",\n",
    "    \"postag\",\n",
    "    \"pre-word\",\n",
    "    \"nxt-word\",\n",
    "    \"word-position\",\n",
    "    ...\n",
    "]\n",
    "```"
   ]
  },
  {
   "cell_type": "markdown",
   "id": "b8759a9a-d744-49ed-9740-c9b65f8aed1c",
   "metadata": {},
   "source": [
    "## Implementando *CRFs*"
   ]
  },
  {
   "cell_type": "code",
   "execution_count": null,
   "id": "65a3f196-9555-4839-a23a-bb855e8b9944",
   "metadata": {
    "colab": {
     "base_uri": "https://localhost:8080/"
    },
    "executionInfo": {
     "elapsed": 6623,
     "status": "ok",
     "timestamp": 1695076261736,
     "user": {
      "displayName": "Diego Alberto Barriga Martínez",
      "userId": "06235177150913802056"
     },
     "user_tz": 360
    },
    "id": "I6JsTkAlWEBo",
    "outputId": "79eb41c1-e7c6-45e7-c032-d3ac46b9a991",
    "scrolled": true
   },
   "outputs": [],
   "source": [
    "!pip install -U sklearn-crfsuite"
   ]
  },
  {
   "cell_type": "code",
   "execution_count": 103,
   "id": "0348e0a8-4c34-44e2-99f5-4fedca5ac08e",
   "metadata": {},
   "outputs": [],
   "source": [
    "from sklearn_crfsuite import CRF\n",
    "from sklearn.model_selection import train_test_split"
   ]
  },
  {
   "cell_type": "markdown",
   "id": "42057fd7-8cc0-4369-9da3-65aae2a9affa",
   "metadata": {},
   "source": [
    "### Feature lists"
   ]
  },
  {
   "cell_type": "code",
   "execution_count": 104,
   "id": "c296f1a0-d8e7-471a-850d-6367476650e1",
   "metadata": {
    "executionInfo": {
     "elapsed": 325,
     "status": "ok",
     "timestamp": 1695076532639,
     "user": {
      "displayName": "Diego Alberto Barriga Martínez",
      "userId": "06235177150913802056"
     },
     "user_tz": 360
    },
    "id": "CUVi_1MaobBi"
   },
   "outputs": [],
   "source": [
    "def word_to_features(sent: list, i: int):\n",
    "    word = sent[i][0]\n",
    "    features = {\n",
    "        'word.lower()': word.lower(),\n",
    "        'word[-3:]': word[-3:],\n",
    "        'word[-2:]': word[-2:],\n",
    "        'word.isupper()': word.isupper(),\n",
    "        #'word.istitle()': word.istitle(),\n",
    "        'word.isdigit()': word.isdigit(),\n",
    "        'prefix_1': word[:1],\n",
    "        'prefix_2': word[:2],\n",
    "        'suffix_1': word[-1:],\n",
    "        'word_len': len(word)\n",
    "    }\n",
    "    if i > 0:\n",
    "        prev_word = sent[i - 1][0]\n",
    "        features.update({\n",
    "            'prev_word.lower()': prev_word.lower(),\n",
    "            'prev_word.istitle()': prev_word.istitle(),\n",
    "        })\n",
    "    else:\n",
    "        features['BOS'] = True  # Beginning of sentence\n",
    "\n",
    "    return features\n",
    "\n",
    "# Extract features and labels\n",
    "def sent_to_features(sent):\n",
    "    return [word_to_features(sent, i) for i in range(len(sent))]\n",
    "\n",
    "def sent_to_labels(sent):\n",
    "    return [label for token, label in sent]"
   ]
  },
  {
   "cell_type": "code",
   "execution_count": 105,
   "id": "40cdf8ce-f966-41c5-9505-073727aec6a7",
   "metadata": {
    "executionInfo": {
     "elapsed": 12271,
     "status": "ok",
     "timestamp": 1695076595687,
     "user": {
      "displayName": "Diego Alberto Barriga Martínez",
      "userId": "06235177150913802056"
     },
     "user_tz": 360
    },
    "id": "I5mel9xzXus1"
   },
   "outputs": [],
   "source": [
    "# Prepare data for CRF\n",
    "X = [[word_to_features(sent, i) for i in range(len(sent))] for sent in corpora]\n",
    "y = [[pos for _, pos in sent] for sent in corpora]"
   ]
  },
  {
   "cell_type": "code",
   "execution_count": 106,
   "id": "a733732e-23cb-446b-8baf-a449b7c0997e",
   "metadata": {},
   "outputs": [
    {
     "data": {
      "text/plain": [
       "[{'word.lower()': 'el',\n",
       "  'word[-3:]': 'El',\n",
       "  'word[-2:]': 'El',\n",
       "  'word.isupper()': False,\n",
       "  'word.isdigit()': False,\n",
       "  'prefix_1': 'E',\n",
       "  'prefix_2': 'El',\n",
       "  'suffix_1': 'l',\n",
       "  'word_len': 2,\n",
       "  'BOS': True},\n",
       " {'word.lower()': 'grupo',\n",
       "  'word[-3:]': 'upo',\n",
       "  'word[-2:]': 'po',\n",
       "  'word.isupper()': False,\n",
       "  'word.isdigit()': False,\n",
       "  'prefix_1': 'g',\n",
       "  'prefix_2': 'gr',\n",
       "  'suffix_1': 'o',\n",
       "  'word_len': 5,\n",
       "  'prev_word.lower()': 'el',\n",
       "  'prev_word.istitle()': True},\n",
       " {'word.lower()': 'estatal',\n",
       "  'word[-3:]': 'tal',\n",
       "  'word[-2:]': 'al',\n",
       "  'word.isupper()': False,\n",
       "  'word.isdigit()': False,\n",
       "  'prefix_1': 'e',\n",
       "  'prefix_2': 'es',\n",
       "  'suffix_1': 'l',\n",
       "  'word_len': 7,\n",
       "  'prev_word.lower()': 'grupo',\n",
       "  'prev_word.istitle()': False},\n",
       " {'word.lower()': 'electricité_de_france',\n",
       "  'word[-3:]': 'nce',\n",
       "  'word[-2:]': 'ce',\n",
       "  'word.isupper()': False,\n",
       "  'word.isdigit()': False,\n",
       "  'prefix_1': 'E',\n",
       "  'prefix_2': 'El',\n",
       "  'suffix_1': 'e',\n",
       "  'word_len': 21,\n",
       "  'prev_word.lower()': 'estatal',\n",
       "  'prev_word.istitle()': False},\n",
       " {'word.lower()': '-fpa-',\n",
       "  'word[-3:]': 'pa-',\n",
       "  'word[-2:]': 'a-',\n",
       "  'word.isupper()': False,\n",
       "  'word.isdigit()': False,\n",
       "  'prefix_1': '-',\n",
       "  'prefix_2': '-F',\n",
       "  'suffix_1': '-',\n",
       "  'word_len': 5,\n",
       "  'prev_word.lower()': 'electricité_de_france',\n",
       "  'prev_word.istitle()': False},\n",
       " {'word.lower()': 'edf',\n",
       "  'word[-3:]': 'EDF',\n",
       "  'word[-2:]': 'DF',\n",
       "  'word.isupper()': True,\n",
       "  'word.isdigit()': False,\n",
       "  'prefix_1': 'E',\n",
       "  'prefix_2': 'ED',\n",
       "  'suffix_1': 'F',\n",
       "  'word_len': 3,\n",
       "  'prev_word.lower()': '-fpa-',\n",
       "  'prev_word.istitle()': True},\n",
       " {'word.lower()': '-fpt-',\n",
       "  'word[-3:]': 'pt-',\n",
       "  'word[-2:]': 't-',\n",
       "  'word.isupper()': False,\n",
       "  'word.isdigit()': False,\n",
       "  'prefix_1': '-',\n",
       "  'prefix_2': '-F',\n",
       "  'suffix_1': '-',\n",
       "  'word_len': 5,\n",
       "  'prev_word.lower()': 'edf',\n",
       "  'prev_word.istitle()': False},\n",
       " {'word.lower()': 'anunció',\n",
       "  'word[-3:]': 'ció',\n",
       "  'word[-2:]': 'ió',\n",
       "  'word.isupper()': False,\n",
       "  'word.isdigit()': False,\n",
       "  'prefix_1': 'a',\n",
       "  'prefix_2': 'an',\n",
       "  'suffix_1': 'ó',\n",
       "  'word_len': 7,\n",
       "  'prev_word.lower()': '-fpt-',\n",
       "  'prev_word.istitle()': True},\n",
       " {'word.lower()': 'hoy',\n",
       "  'word[-3:]': 'hoy',\n",
       "  'word[-2:]': 'oy',\n",
       "  'word.isupper()': False,\n",
       "  'word.isdigit()': False,\n",
       "  'prefix_1': 'h',\n",
       "  'prefix_2': 'ho',\n",
       "  'suffix_1': 'y',\n",
       "  'word_len': 3,\n",
       "  'prev_word.lower()': 'anunció',\n",
       "  'prev_word.istitle()': False},\n",
       " {'word.lower()': ',',\n",
       "  'word[-3:]': ',',\n",
       "  'word[-2:]': ',',\n",
       "  'word.isupper()': False,\n",
       "  'word.isdigit()': False,\n",
       "  'prefix_1': ',',\n",
       "  'prefix_2': ',',\n",
       "  'suffix_1': ',',\n",
       "  'word_len': 1,\n",
       "  'prev_word.lower()': 'hoy',\n",
       "  'prev_word.istitle()': False},\n",
       " {'word.lower()': 'jueves',\n",
       "  'word[-3:]': 'ves',\n",
       "  'word[-2:]': 'es',\n",
       "  'word.isupper()': False,\n",
       "  'word.isdigit()': False,\n",
       "  'prefix_1': 'j',\n",
       "  'prefix_2': 'ju',\n",
       "  'suffix_1': 's',\n",
       "  'word_len': 6,\n",
       "  'prev_word.lower()': ',',\n",
       "  'prev_word.istitle()': False},\n",
       " {'word.lower()': ',',\n",
       "  'word[-3:]': ',',\n",
       "  'word[-2:]': ',',\n",
       "  'word.isupper()': False,\n",
       "  'word.isdigit()': False,\n",
       "  'prefix_1': ',',\n",
       "  'prefix_2': ',',\n",
       "  'suffix_1': ',',\n",
       "  'word_len': 1,\n",
       "  'prev_word.lower()': 'jueves',\n",
       "  'prev_word.istitle()': False},\n",
       " {'word.lower()': 'la',\n",
       "  'word[-3:]': 'la',\n",
       "  'word[-2:]': 'la',\n",
       "  'word.isupper()': False,\n",
       "  'word.isdigit()': False,\n",
       "  'prefix_1': 'l',\n",
       "  'prefix_2': 'la',\n",
       "  'suffix_1': 'a',\n",
       "  'word_len': 2,\n",
       "  'prev_word.lower()': ',',\n",
       "  'prev_word.istitle()': False},\n",
       " {'word.lower()': 'compra',\n",
       "  'word[-3:]': 'pra',\n",
       "  'word[-2:]': 'ra',\n",
       "  'word.isupper()': False,\n",
       "  'word.isdigit()': False,\n",
       "  'prefix_1': 'c',\n",
       "  'prefix_2': 'co',\n",
       "  'suffix_1': 'a',\n",
       "  'word_len': 6,\n",
       "  'prev_word.lower()': 'la',\n",
       "  'prev_word.istitle()': False},\n",
       " {'word.lower()': 'del',\n",
       "  'word[-3:]': 'del',\n",
       "  'word[-2:]': 'el',\n",
       "  'word.isupper()': False,\n",
       "  'word.isdigit()': False,\n",
       "  'prefix_1': 'd',\n",
       "  'prefix_2': 'de',\n",
       "  'suffix_1': 'l',\n",
       "  'word_len': 3,\n",
       "  'prev_word.lower()': 'compra',\n",
       "  'prev_word.istitle()': False},\n",
       " {'word.lower()': '51_por_ciento',\n",
       "  'word[-3:]': 'nto',\n",
       "  'word[-2:]': 'to',\n",
       "  'word.isupper()': False,\n",
       "  'word.isdigit()': False,\n",
       "  'prefix_1': '5',\n",
       "  'prefix_2': '51',\n",
       "  'suffix_1': 'o',\n",
       "  'word_len': 13,\n",
       "  'prev_word.lower()': 'del',\n",
       "  'prev_word.istitle()': False},\n",
       " {'word.lower()': 'de',\n",
       "  'word[-3:]': 'de',\n",
       "  'word[-2:]': 'de',\n",
       "  'word.isupper()': False,\n",
       "  'word.isdigit()': False,\n",
       "  'prefix_1': 'd',\n",
       "  'prefix_2': 'de',\n",
       "  'suffix_1': 'e',\n",
       "  'word_len': 2,\n",
       "  'prev_word.lower()': '51_por_ciento',\n",
       "  'prev_word.istitle()': False},\n",
       " {'word.lower()': 'la',\n",
       "  'word[-3:]': 'la',\n",
       "  'word[-2:]': 'la',\n",
       "  'word.isupper()': False,\n",
       "  'word.isdigit()': False,\n",
       "  'prefix_1': 'l',\n",
       "  'prefix_2': 'la',\n",
       "  'suffix_1': 'a',\n",
       "  'word_len': 2,\n",
       "  'prev_word.lower()': 'de',\n",
       "  'prev_word.istitle()': False},\n",
       " {'word.lower()': 'empresa',\n",
       "  'word[-3:]': 'esa',\n",
       "  'word[-2:]': 'sa',\n",
       "  'word.isupper()': False,\n",
       "  'word.isdigit()': False,\n",
       "  'prefix_1': 'e',\n",
       "  'prefix_2': 'em',\n",
       "  'suffix_1': 'a',\n",
       "  'word_len': 7,\n",
       "  'prev_word.lower()': 'la',\n",
       "  'prev_word.istitle()': False},\n",
       " {'word.lower()': 'mexicana',\n",
       "  'word[-3:]': 'ana',\n",
       "  'word[-2:]': 'na',\n",
       "  'word.isupper()': False,\n",
       "  'word.isdigit()': False,\n",
       "  'prefix_1': 'm',\n",
       "  'prefix_2': 'me',\n",
       "  'suffix_1': 'a',\n",
       "  'word_len': 8,\n",
       "  'prev_word.lower()': 'empresa',\n",
       "  'prev_word.istitle()': False},\n",
       " {'word.lower()': 'electricidad_águila_de_altamira',\n",
       "  'word[-3:]': 'ira',\n",
       "  'word[-2:]': 'ra',\n",
       "  'word.isupper()': False,\n",
       "  'word.isdigit()': False,\n",
       "  'prefix_1': 'E',\n",
       "  'prefix_2': 'El',\n",
       "  'suffix_1': 'a',\n",
       "  'word_len': 31,\n",
       "  'prev_word.lower()': 'mexicana',\n",
       "  'prev_word.istitle()': False},\n",
       " {'word.lower()': '-fpa-',\n",
       "  'word[-3:]': 'pa-',\n",
       "  'word[-2:]': 'a-',\n",
       "  'word.isupper()': False,\n",
       "  'word.isdigit()': False,\n",
       "  'prefix_1': '-',\n",
       "  'prefix_2': '-F',\n",
       "  'suffix_1': '-',\n",
       "  'word_len': 5,\n",
       "  'prev_word.lower()': 'electricidad_águila_de_altamira',\n",
       "  'prev_word.istitle()': False},\n",
       " {'word.lower()': 'eaa',\n",
       "  'word[-3:]': 'EAA',\n",
       "  'word[-2:]': 'AA',\n",
       "  'word.isupper()': True,\n",
       "  'word.isdigit()': False,\n",
       "  'prefix_1': 'E',\n",
       "  'prefix_2': 'EA',\n",
       "  'suffix_1': 'A',\n",
       "  'word_len': 3,\n",
       "  'prev_word.lower()': '-fpa-',\n",
       "  'prev_word.istitle()': True},\n",
       " {'word.lower()': '-fpt-',\n",
       "  'word[-3:]': 'pt-',\n",
       "  'word[-2:]': 't-',\n",
       "  'word.isupper()': False,\n",
       "  'word.isdigit()': False,\n",
       "  'prefix_1': '-',\n",
       "  'prefix_2': '-F',\n",
       "  'suffix_1': '-',\n",
       "  'word_len': 5,\n",
       "  'prev_word.lower()': 'eaa',\n",
       "  'prev_word.istitle()': False},\n",
       " {'word.lower()': ',',\n",
       "  'word[-3:]': ',',\n",
       "  'word[-2:]': ',',\n",
       "  'word.isupper()': False,\n",
       "  'word.isdigit()': False,\n",
       "  'prefix_1': ',',\n",
       "  'prefix_2': ',',\n",
       "  'suffix_1': ',',\n",
       "  'word_len': 1,\n",
       "  'prev_word.lower()': '-fpt-',\n",
       "  'prev_word.istitle()': True},\n",
       " {'word.lower()': 'creada',\n",
       "  'word[-3:]': 'ada',\n",
       "  'word[-2:]': 'da',\n",
       "  'word.isupper()': False,\n",
       "  'word.isdigit()': False,\n",
       "  'prefix_1': 'c',\n",
       "  'prefix_2': 'cr',\n",
       "  'suffix_1': 'a',\n",
       "  'word_len': 6,\n",
       "  'prev_word.lower()': ',',\n",
       "  'prev_word.istitle()': False},\n",
       " {'word.lower()': 'por',\n",
       "  'word[-3:]': 'por',\n",
       "  'word[-2:]': 'or',\n",
       "  'word.isupper()': False,\n",
       "  'word.isdigit()': False,\n",
       "  'prefix_1': 'p',\n",
       "  'prefix_2': 'po',\n",
       "  'suffix_1': 'r',\n",
       "  'word_len': 3,\n",
       "  'prev_word.lower()': 'creada',\n",
       "  'prev_word.istitle()': False},\n",
       " {'word.lower()': 'el',\n",
       "  'word[-3:]': 'el',\n",
       "  'word[-2:]': 'el',\n",
       "  'word.isupper()': False,\n",
       "  'word.isdigit()': False,\n",
       "  'prefix_1': 'e',\n",
       "  'prefix_2': 'el',\n",
       "  'suffix_1': 'l',\n",
       "  'word_len': 2,\n",
       "  'prev_word.lower()': 'por',\n",
       "  'prev_word.istitle()': False},\n",
       " {'word.lower()': 'japonés',\n",
       "  'word[-3:]': 'nés',\n",
       "  'word[-2:]': 'és',\n",
       "  'word.isupper()': False,\n",
       "  'word.isdigit()': False,\n",
       "  'prefix_1': 'j',\n",
       "  'prefix_2': 'ja',\n",
       "  'suffix_1': 's',\n",
       "  'word_len': 7,\n",
       "  'prev_word.lower()': 'el',\n",
       "  'prev_word.istitle()': False},\n",
       " {'word.lower()': 'mitsubishi_corporation',\n",
       "  'word[-3:]': 'ion',\n",
       "  'word[-2:]': 'on',\n",
       "  'word.isupper()': False,\n",
       "  'word.isdigit()': False,\n",
       "  'prefix_1': 'M',\n",
       "  'prefix_2': 'Mi',\n",
       "  'suffix_1': 'n',\n",
       "  'word_len': 22,\n",
       "  'prev_word.lower()': 'japonés',\n",
       "  'prev_word.istitle()': False},\n",
       " {'word.lower()': 'para',\n",
       "  'word[-3:]': 'ara',\n",
       "  'word[-2:]': 'ra',\n",
       "  'word.isupper()': False,\n",
       "  'word.isdigit()': False,\n",
       "  'prefix_1': 'p',\n",
       "  'prefix_2': 'pa',\n",
       "  'suffix_1': 'a',\n",
       "  'word_len': 4,\n",
       "  'prev_word.lower()': 'mitsubishi_corporation',\n",
       "  'prev_word.istitle()': True},\n",
       " {'word.lower()': 'poner_en_marcha',\n",
       "  'word[-3:]': 'cha',\n",
       "  'word[-2:]': 'ha',\n",
       "  'word.isupper()': False,\n",
       "  'word.isdigit()': False,\n",
       "  'prefix_1': 'p',\n",
       "  'prefix_2': 'po',\n",
       "  'suffix_1': 'a',\n",
       "  'word_len': 15,\n",
       "  'prev_word.lower()': 'para',\n",
       "  'prev_word.istitle()': False},\n",
       " {'word.lower()': 'una',\n",
       "  'word[-3:]': 'una',\n",
       "  'word[-2:]': 'na',\n",
       "  'word.isupper()': False,\n",
       "  'word.isdigit()': False,\n",
       "  'prefix_1': 'u',\n",
       "  'prefix_2': 'un',\n",
       "  'suffix_1': 'a',\n",
       "  'word_len': 3,\n",
       "  'prev_word.lower()': 'poner_en_marcha',\n",
       "  'prev_word.istitle()': False},\n",
       " {'word.lower()': 'central',\n",
       "  'word[-3:]': 'ral',\n",
       "  'word[-2:]': 'al',\n",
       "  'word.isupper()': False,\n",
       "  'word.isdigit()': False,\n",
       "  'prefix_1': 'c',\n",
       "  'prefix_2': 'ce',\n",
       "  'suffix_1': 'l',\n",
       "  'word_len': 7,\n",
       "  'prev_word.lower()': 'una',\n",
       "  'prev_word.istitle()': False},\n",
       " {'word.lower()': 'de',\n",
       "  'word[-3:]': 'de',\n",
       "  'word[-2:]': 'de',\n",
       "  'word.isupper()': False,\n",
       "  'word.isdigit()': False,\n",
       "  'prefix_1': 'd',\n",
       "  'prefix_2': 'de',\n",
       "  'suffix_1': 'e',\n",
       "  'word_len': 2,\n",
       "  'prev_word.lower()': 'central',\n",
       "  'prev_word.istitle()': False},\n",
       " {'word.lower()': 'gas',\n",
       "  'word[-3:]': 'gas',\n",
       "  'word[-2:]': 'as',\n",
       "  'word.isupper()': False,\n",
       "  'word.isdigit()': False,\n",
       "  'prefix_1': 'g',\n",
       "  'prefix_2': 'ga',\n",
       "  'suffix_1': 's',\n",
       "  'word_len': 3,\n",
       "  'prev_word.lower()': 'de',\n",
       "  'prev_word.istitle()': False},\n",
       " {'word.lower()': 'de',\n",
       "  'word[-3:]': 'de',\n",
       "  'word[-2:]': 'de',\n",
       "  'word.isupper()': False,\n",
       "  'word.isdigit()': False,\n",
       "  'prefix_1': 'd',\n",
       "  'prefix_2': 'de',\n",
       "  'suffix_1': 'e',\n",
       "  'word_len': 2,\n",
       "  'prev_word.lower()': 'gas',\n",
       "  'prev_word.istitle()': False},\n",
       " {'word.lower()': '495',\n",
       "  'word[-3:]': '495',\n",
       "  'word[-2:]': '95',\n",
       "  'word.isupper()': False,\n",
       "  'word.isdigit()': True,\n",
       "  'prefix_1': '4',\n",
       "  'prefix_2': '49',\n",
       "  'suffix_1': '5',\n",
       "  'word_len': 3,\n",
       "  'prev_word.lower()': 'de',\n",
       "  'prev_word.istitle()': False},\n",
       " {'word.lower()': 'megavatios',\n",
       "  'word[-3:]': 'ios',\n",
       "  'word[-2:]': 'os',\n",
       "  'word.isupper()': False,\n",
       "  'word.isdigit()': False,\n",
       "  'prefix_1': 'm',\n",
       "  'prefix_2': 'me',\n",
       "  'suffix_1': 's',\n",
       "  'word_len': 10,\n",
       "  'prev_word.lower()': '495',\n",
       "  'prev_word.istitle()': False},\n",
       " {'word.lower()': '.',\n",
       "  'word[-3:]': '.',\n",
       "  'word[-2:]': '.',\n",
       "  'word.isupper()': False,\n",
       "  'word.isdigit()': False,\n",
       "  'prefix_1': '.',\n",
       "  'prefix_2': '.',\n",
       "  'suffix_1': '.',\n",
       "  'word_len': 1,\n",
       "  'prev_word.lower()': 'megavatios',\n",
       "  'prev_word.istitle()': False}]"
      ]
     },
     "execution_count": 106,
     "metadata": {},
     "output_type": "execute_result"
    }
   ],
   "source": [
    "# Explorar datos de entrada\n",
    "X[0]"
   ]
  },
  {
   "cell_type": "code",
   "execution_count": 107,
   "id": "a76e5a82-3884-4544-bb14-95fc5091903e",
   "metadata": {},
   "outputs": [
    {
     "data": {
      "text/plain": [
       "['DET',\n",
       " 'NOUN',\n",
       " 'ADJ',\n",
       " 'NOUN',\n",
       " '.',\n",
       " 'NOUN',\n",
       " '.',\n",
       " 'VERB',\n",
       " 'ADV',\n",
       " '.',\n",
       " 'NOUN',\n",
       " '.',\n",
       " 'DET',\n",
       " 'NOUN',\n",
       " 'ADP',\n",
       " 'NUM',\n",
       " 'ADP',\n",
       " 'DET',\n",
       " 'NOUN',\n",
       " 'ADJ',\n",
       " 'NOUN',\n",
       " '.',\n",
       " 'NOUN',\n",
       " '.',\n",
       " '.',\n",
       " 'ADJ',\n",
       " 'ADP',\n",
       " 'DET',\n",
       " 'ADJ',\n",
       " 'NOUN',\n",
       " 'ADP',\n",
       " 'VERB',\n",
       " 'DET',\n",
       " 'NOUN',\n",
       " 'ADP',\n",
       " 'NOUN',\n",
       " 'ADP',\n",
       " 'NUM',\n",
       " 'NOUN',\n",
       " '.']"
      ]
     },
     "execution_count": 107,
     "metadata": {},
     "output_type": "execute_result"
    }
   ],
   "source": [
    "y[0]"
   ]
  },
  {
   "cell_type": "code",
   "execution_count": 108,
   "id": "2ca8ca9c-6832-416d-9cb0-0b79f344a590",
   "metadata": {},
   "outputs": [
    {
     "data": {
      "text/plain": [
       "True"
      ]
     },
     "execution_count": 108,
     "metadata": {},
     "output_type": "execute_result"
    }
   ],
   "source": [
    "len(X[0]) == len(y[0])"
   ]
  },
  {
   "cell_type": "code",
   "execution_count": 109,
   "id": "26bfef85-697f-4289-bbac-336546d39970",
   "metadata": {
    "executionInfo": {
     "elapsed": 188,
     "status": "ok",
     "timestamp": 1695076788617,
     "user": {
      "displayName": "Diego Alberto Barriga Martínez",
      "userId": "06235177150913802056"
     },
     "user_tz": 360
    },
    "id": "CZb5Q4oup3o1"
   },
   "outputs": [],
   "source": [
    " # Split the data into training and testing sets\n",
    "X_train, X_test, y_train, y_test = train_test_split(X, y, test_size=0.2, random_state=42)"
   ]
  },
  {
   "cell_type": "markdown",
   "id": "7b68eac2-f155-41e4-99b8-28d332aabe87",
   "metadata": {
    "id": "BFlLzHFppytA"
   },
   "source": [
    "#### Entrenamiento del modelo"
   ]
  },
  {
   "cell_type": "code",
   "execution_count": 110,
   "id": "a3ba86db-758f-4b7a-be1f-8fd9b5bb70e7",
   "metadata": {
    "colab": {
     "base_uri": "https://localhost:8080/"
    },
    "executionInfo": {
     "elapsed": 20519,
     "status": "ok",
     "timestamp": 1695077057769,
     "user": {
      "displayName": "Diego Alberto Barriga Martínez",
      "userId": "06235177150913802056"
     },
     "user_tz": 360
    },
    "id": "qe3WrHknp1Cd",
    "outputId": "9fa57337-83ac-4368-d922-827e4aec0482"
   },
   "outputs": [
    {
     "name": "stderr",
     "output_type": "stream",
     "text": [
      "loading training data to CRFsuite: 100%|██████████████████████████████████████████████████| 4824/4824 [00:01<00:00, 3367.37it/s]\n"
     ]
    },
    {
     "name": "stdout",
     "output_type": "stream",
     "text": [
      "\n",
      "Feature generation\n",
      "type: CRF1d\n",
      "feature.minfreq: 0.000000\n",
      "feature.possible_states: 0\n",
      "feature.possible_transitions: 1\n",
      "0....1....2....3....4....5....6....7....8....9....10\n",
      "Number of features: 67328\n",
      "Seconds required: 0.329\n",
      "\n",
      "L-BFGS optimization\n",
      "c1: 0.100000\n",
      "c2: 0.100000\n",
      "num_memories: 6\n",
      "max_iterations: 100\n",
      "epsilon: 0.000010\n",
      "stop: 10\n",
      "delta: 0.000010\n",
      "linesearch: MoreThuente\n",
      "linesearch.max_iterations: 20\n",
      "\n",
      "Iter 1   time=0.46  loss=335366.33 active=66453 feature_norm=0.50\n",
      "Iter 2   time=0.17  loss=312431.07 active=66320 feature_norm=0.42\n",
      "Iter 3   time=0.18  loss=305902.03 active=66649 feature_norm=0.49\n",
      "Iter 4   time=0.16  loss=296232.33 active=66785 feature_norm=0.64\n",
      "Iter 5   time=0.16  loss=245188.50 active=66609 feature_norm=1.86\n",
      "Iter 6   time=0.16  loss=179962.95 active=66765 feature_norm=4.29\n",
      "Iter 7   time=0.15  loss=165928.23 active=66719 feature_norm=6.92\n",
      "Iter 8   time=0.16  loss=133652.61 active=67019 feature_norm=7.99\n",
      "Iter 9   time=0.16  loss=118499.58 active=67000 feature_norm=8.99\n",
      "Iter 10  time=0.15  loss=106888.65 active=66919 feature_norm=11.01\n",
      "Iter 11  time=0.16  loss=97980.46 active=66861 feature_norm=12.66\n",
      "Iter 12  time=0.15  loss=89053.44 active=66823 feature_norm=14.50\n",
      "Iter 13  time=0.15  loss=80836.05 active=66725 feature_norm=17.13\n",
      "Iter 14  time=0.15  loss=74042.95 active=66661 feature_norm=20.09\n",
      "Iter 15  time=0.16  loss=68516.09 active=66590 feature_norm=22.79\n",
      "Iter 16  time=0.17  loss=62861.72 active=66634 feature_norm=25.64\n",
      "Iter 17  time=0.17  loss=57427.76 active=66411 feature_norm=29.14\n",
      "Iter 18  time=0.16  loss=52266.49 active=66157 feature_norm=32.51\n",
      "Iter 19  time=0.15  loss=46582.82 active=62950 feature_norm=37.23\n",
      "Iter 20  time=0.16  loss=42580.84 active=60307 feature_norm=41.99\n",
      "Iter 21  time=0.17  loss=38612.72 active=54328 feature_norm=45.19\n",
      "Iter 22  time=0.17  loss=34828.06 active=45495 feature_norm=49.31\n",
      "Iter 23  time=0.16  loss=34036.60 active=44916 feature_norm=54.36\n",
      "Iter 24  time=0.17  loss=29922.82 active=45210 feature_norm=56.41\n",
      "Iter 25  time=0.20  loss=28414.85 active=44781 feature_norm=58.98\n",
      "Iter 26  time=0.18  loss=25860.65 active=41100 feature_norm=65.94\n",
      "Iter 27  time=0.67  loss=25629.97 active=40984 feature_norm=66.13\n",
      "Iter 28  time=0.18  loss=23753.16 active=37902 feature_norm=70.93\n",
      "Iter 29  time=0.19  loss=22059.37 active=36771 feature_norm=76.77\n",
      "Iter 30  time=0.18  loss=21029.18 active=36285 feature_norm=86.47\n",
      "Iter 31  time=0.17  loss=19937.67 active=36223 feature_norm=90.43\n",
      "Iter 32  time=0.17  loss=19112.39 active=35480 feature_norm=91.95\n",
      "Iter 33  time=0.18  loss=18450.10 active=34196 feature_norm=94.94\n",
      "Iter 34  time=0.18  loss=17316.20 active=33178 feature_norm=101.42\n",
      "Iter 35  time=0.53  loss=16957.87 active=33101 feature_norm=104.38\n",
      "Iter 36  time=0.17  loss=15926.67 active=32155 feature_norm=109.95\n",
      "Iter 37  time=0.18  loss=15122.77 active=31060 feature_norm=116.07\n",
      "Iter 38  time=0.18  loss=14328.46 active=30432 feature_norm=122.31\n",
      "Iter 39  time=0.88  loss=14298.34 active=30510 feature_norm=122.84\n",
      "Iter 40  time=0.19  loss=13625.69 active=29889 feature_norm=127.89\n",
      "Iter 41  time=0.20  loss=13108.10 active=29068 feature_norm=132.89\n",
      "Iter 42  time=0.34  loss=12872.71 active=28815 feature_norm=139.84\n",
      "Iter 43  time=0.17  loss=12477.48 active=28524 feature_norm=142.01\n",
      "Iter 44  time=0.18  loss=12206.73 active=27626 feature_norm=144.19\n",
      "Iter 45  time=0.18  loss=11899.83 active=27468 feature_norm=147.71\n",
      "Iter 46  time=0.16  loss=11737.75 active=26734 feature_norm=152.59\n",
      "Iter 47  time=0.16  loss=11503.37 active=26692 feature_norm=153.27\n",
      "Iter 48  time=0.16  loss=11408.40 active=26761 feature_norm=153.88\n",
      "Iter 49  time=0.16  loss=11345.49 active=26683 feature_norm=154.43\n",
      "Iter 50  time=0.17  loss=11171.44 active=26030 feature_norm=156.53\n",
      "Iter 51  time=0.50  loss=11144.14 active=25859 feature_norm=157.37\n",
      "Iter 52  time=0.16  loss=11020.75 active=25528 feature_norm=158.68\n",
      "Iter 53  time=0.17  loss=10902.38 active=25231 feature_norm=160.76\n",
      "Iter 54  time=0.16  loss=10809.32 active=24906 feature_norm=162.50\n",
      "Iter 55  time=0.16  loss=10749.72 active=24514 feature_norm=164.20\n",
      "Iter 56  time=0.16  loss=10679.76 active=24470 feature_norm=164.82\n",
      "Iter 57  time=0.16  loss=10649.35 active=24421 feature_norm=165.07\n",
      "Iter 58  time=0.17  loss=10597.44 active=24220 feature_norm=165.70\n",
      "Iter 59  time=0.17  loss=10562.65 active=24093 feature_norm=165.75\n",
      "Iter 60  time=0.17  loss=10501.94 active=23694 feature_norm=166.42\n",
      "Iter 61  time=0.17  loss=10474.62 active=23533 feature_norm=166.78\n",
      "Iter 62  time=0.17  loss=10443.86 active=23460 feature_norm=166.94\n",
      "Iter 63  time=0.16  loss=10394.59 active=23224 feature_norm=167.19\n",
      "Iter 64  time=0.16  loss=10362.31 active=22974 feature_norm=167.17\n",
      "Iter 65  time=0.17  loss=10320.67 active=22649 feature_norm=167.11\n",
      "Iter 66  time=0.17  loss=10306.27 active=22537 feature_norm=167.06\n",
      "Iter 67  time=0.17  loss=10281.02 active=22542 feature_norm=167.15\n",
      "Iter 68  time=0.16  loss=10265.38 active=22471 feature_norm=167.17\n",
      "Iter 69  time=0.15  loss=10237.34 active=22324 feature_norm=167.16\n",
      "Iter 70  time=0.16  loss=10216.35 active=22148 feature_norm=167.22\n",
      "Iter 71  time=0.16  loss=10194.89 active=22123 feature_norm=167.28\n",
      "Iter 72  time=0.16  loss=10176.80 active=22022 feature_norm=167.34\n",
      "Iter 73  time=0.17  loss=10159.84 active=21866 feature_norm=167.34\n",
      "Iter 74  time=0.16  loss=10141.68 active=21714 feature_norm=167.31\n",
      "Iter 75  time=0.50  loss=10139.13 active=21663 feature_norm=167.26\n",
      "Iter 76  time=0.17  loss=10120.73 active=21598 feature_norm=167.25\n",
      "Iter 77  time=0.16  loss=10104.40 active=21475 feature_norm=167.28\n",
      "Iter 78  time=0.17  loss=10091.19 active=21318 feature_norm=167.35\n",
      "Iter 79  time=0.17  loss=10079.63 active=21260 feature_norm=167.44\n",
      "Iter 80  time=0.18  loss=10068.70 active=21260 feature_norm=167.46\n",
      "Iter 81  time=0.17  loss=10059.08 active=21177 feature_norm=167.50\n",
      "Iter 82  time=0.19  loss=10047.53 active=21068 feature_norm=167.57\n",
      "Iter 83  time=0.17  loss=10039.20 active=21029 feature_norm=167.60\n",
      "Iter 84  time=0.18  loss=10030.15 active=21004 feature_norm=167.62\n",
      "Iter 85  time=0.16  loss=10019.04 active=20898 feature_norm=167.63\n",
      "Iter 86  time=0.16  loss=10010.88 active=20842 feature_norm=167.68\n",
      "Iter 87  time=0.16  loss=10002.05 active=20801 feature_norm=167.71\n",
      "Iter 88  time=0.16  loss=9994.89  active=20792 feature_norm=167.75\n",
      "Iter 89  time=0.16  loss=9987.34  active=20752 feature_norm=167.80\n",
      "Iter 90  time=0.15  loss=9981.34  active=20721 feature_norm=167.90\n",
      "Iter 91  time=0.15  loss=9975.23  active=20673 feature_norm=167.95\n",
      "Iter 92  time=0.16  loss=9969.79  active=20682 feature_norm=168.00\n",
      "Iter 93  time=0.16  loss=9964.51  active=20655 feature_norm=168.03\n",
      "Iter 94  time=0.15  loss=9959.19  active=20598 feature_norm=168.09\n",
      "Iter 95  time=0.16  loss=9954.76  active=20576 feature_norm=168.12\n",
      "Iter 96  time=0.16  loss=9950.20  active=20562 feature_norm=168.17\n",
      "Iter 97  time=0.16  loss=9946.08  active=20557 feature_norm=168.17\n",
      "Iter 98  time=0.16  loss=9941.42  active=20513 feature_norm=168.18\n",
      "Iter 99  time=0.17  loss=9936.80  active=20473 feature_norm=168.19\n",
      "Iter 100 time=0.16  loss=9932.36  active=20462 feature_norm=168.21\n",
      "L-BFGS terminated with the maximum number of iterations\n",
      "Total seconds required for training: 19.381\n",
      "\n",
      "Storing the model\n",
      "Number of active features: 20462 (67328)\n",
      "Number of active attributes: 14701 (47647)\n",
      "Number of active labels: 11 (11)\n",
      "Writing labels\n",
      "Writing attributes\n",
      "Writing feature references for transitions\n",
      "Writing feature references for attributes\n",
      "Seconds required: 0.012\n",
      "\n"
     ]
    }
   ],
   "source": [
    "from inspect import Attribute\n",
    "from sklearn_crfsuite import CRF\n",
    "# Initialize and train the CRF tagger: https://sklearn-crfsuite.readthedocs.io/en/latest/api.html\n",
    "crf = CRF(algorithm='lbfgs', c1=0.1, c2=0.1, max_iterations=100, all_possible_transitions=True, verbose=True)\n",
    "try:\n",
    "    crf.fit(X_train, y_train)\n",
    "except AttributeError as e:\n",
    "    print(e)"
   ]
  },
  {
   "cell_type": "code",
   "execution_count": 111,
   "id": "2294e744-faa7-47cc-aa49-7507cc3a0117",
   "metadata": {
    "colab": {
     "base_uri": "https://localhost:8080/"
    },
    "executionInfo": {
     "elapsed": 1035,
     "status": "ok",
     "timestamp": 1695077259212,
     "user": {
      "displayName": "Diego Alberto Barriga Martínez",
      "userId": "06235177150913802056"
     },
     "user_tz": 360
    },
    "id": "Ji0imFP9aZv4",
    "outputId": "7fd2673e-40b1-4827-ec54-d8779b5f817c"
   },
   "outputs": [
    {
     "name": "stdout",
     "output_type": "stream",
     "text": [
      "              precision    recall  f1-score   support\n",
      "\n",
      "           .       1.00      1.00      1.00      4820\n",
      "         ADJ       0.91      0.90      0.91      2675\n",
      "         ADP       1.00      1.00      1.00      6577\n",
      "         ADV       0.96      0.94      0.95      1473\n",
      "        CONJ       0.97      0.97      0.97      2149\n",
      "         DET       0.99      0.99      0.99      5563\n",
      "        NOUN       0.97      0.97      0.97      9005\n",
      "         NUM       0.95      0.97      0.96       400\n",
      "        PRON       0.95      0.94      0.94      1705\n",
      "        VERB       0.98      0.98      0.98      4505\n",
      "           X       1.00      1.00      1.00         4\n",
      "\n",
      "    accuracy                           0.98     38876\n",
      "   macro avg       0.97      0.97      0.97     38876\n",
      "weighted avg       0.98      0.98      0.98     38876\n",
      "\n"
     ]
    }
   ],
   "source": [
    "from sklearn.metrics import classification_report\n",
    "y_pred = crf.predict(X_test)\n",
    "\n",
    "# Flatten the true and predicted labels\n",
    "y_test_flat = [label for sent_labels in y_test for label in sent_labels]\n",
    "y_pred_flat = [label for sent_labels in y_pred for label in sent_labels]\n",
    "\n",
    "# Evaluate the model\n",
    "report = classification_report(y_true=y_test_flat, y_pred=y_pred_flat)\n",
    "print(report)"
   ]
  },
  {
   "cell_type": "markdown",
   "id": "b2bd8919-c9d4-4b99-955c-b6b8bf6f458e",
   "metadata": {
    "id": "56dpTD9kKson"
   },
   "source": [
    "### Metricas"
   ]
  },
  {
   "cell_type": "markdown",
   "id": "f0dacc78-9ba7-49ea-8e03-b298bfa885a2",
   "metadata": {
    "id": "OF94WHYIMbyA"
   },
   "source": [
    "#### Confusion Matrix (binaria)\n",
    "\n",
    "Es una forma tabular de vizualizar el desempeño de un modelo de *Machine Learning (ML)*. En las columnas tenemos la cuenta de etiquetas predichas mientras que en las filas tenemos la cuenta de las etiquetas reales (o viceversa)"
   ]
  },
  {
   "cell_type": "markdown",
   "id": "21728168-5e0a-4ac6-ac9f-b25f61eed424",
   "metadata": {
    "id": "PkxltjlYQZB7"
   },
   "source": [
    "![](https://i1.wp.com/dataaspirant.com/wp-content/uploads/2020/08/3_confusion_matrix.png?ssl=1)"
   ]
  },
  {
   "cell_type": "markdown",
   "id": "721bd8d6-5df1-4283-b549-4817ccc35102",
   "metadata": {
    "id": "n1DzQDArQ8Mh"
   },
   "source": [
    "- **TP:** Etiquetas correctamente predichas como positivas. Ej: Se etiqueto un correo como spam y era spam\n",
    "- **FP:** Etiquetas incorrectamente predichas. Ej: Se etiqueto un correo como spam y NO era spam\n",
    "- **TN:** Etiquetas correctamente predichas como negativas. Ej: Se etiqueto un correo como no spam y era no spam\n",
    "- **FN:** Etiquetas incorrectamente predichas como negativas. Ej: Se etiqueto un correo como no spam y era spam"
   ]
  },
  {
   "cell_type": "markdown",
   "id": "07ca9e34-ef08-40e2-813b-d9bd6d4d3dd6",
   "metadata": {
    "id": "9x_Oi098L29_"
   },
   "source": [
    "#### Accuracy = $\\frac{TP + TN}{TP + TN + FP + FN}$\n",
    "\n",
    "Es una de las métricas más sencillas usadas en *ML*. Define que tan exacto es el modelo. Por ejemplo, si de 100 etiquetas el modelo acerto en 90 tendremos un accuracy de 0.90 o 90%"
   ]
  },
  {
   "cell_type": "code",
   "execution_count": 112,
   "id": "68a78aa0-a7d5-4cf9-9cde-d358a38d18b3",
   "metadata": {
    "colab": {
     "base_uri": "https://localhost:8080/"
    },
    "executionInfo": {
     "elapsed": 236,
     "status": "ok",
     "timestamp": 1695079169370,
     "user": {
      "displayName": "Diego Alberto Barriga Martínez",
      "userId": "06235177150913802056"
     },
     "user_tz": 360
    },
    "id": "mCZ7sLmQTrJl",
    "outputId": "d11434a0-889a-4ba8-e700-0dfec284fda7"
   },
   "outputs": [
    {
     "name": "stdout",
     "output_type": "stream",
     "text": [
      "0.9758977261035086\n"
     ]
    }
   ],
   "source": [
    "from sklearn.metrics import accuracy_score\n",
    "print(accuracy_score(y_pred_flat, y_test_flat))"
   ]
  },
  {
   "cell_type": "markdown",
   "id": "5bf9f555-239a-48ad-b32f-f2bb2a7b272b",
   "metadata": {
    "id": "NqYNAJHbR-oj"
   },
   "source": [
    "#### Precision = $\\frac{TP}{TP + FP}$\n",
    "\n",
    "Indica la relación entre las predicciones positivas correctas (SPAM es SPAM) con el total de predicciones de la clase sin importar si fueron correctas o no (Todo lo que fue marcado como SPAM correctamente con todo lo que fue marcado como SPAM incorrectamente). *De los correos etiquetados como SPAM cuandos fueron efectivamente SPAM*"
   ]
  },
  {
   "cell_type": "code",
   "execution_count": 113,
   "id": "e58820ac-6a6d-44fe-879e-8ab628832980",
   "metadata": {
    "colab": {
     "base_uri": "https://localhost:8080/"
    },
    "executionInfo": {
     "elapsed": 522,
     "status": "ok",
     "timestamp": 1695079235925,
     "user": {
      "displayName": "Diego Alberto Barriga Martínez",
      "userId": "06235177150913802056"
     },
     "user_tz": 360
    },
    "id": "I0E3PQk3-Iuc",
    "outputId": "f061b460-d173-49ea-9acd-1394fdbc7646"
   },
   "outputs": [
    {
     "name": "stdout",
     "output_type": "stream",
     "text": [
      "0.9697475680399225\n"
     ]
    }
   ],
   "source": [
    "from sklearn.metrics import precision_score\n",
    "print(precision_score(y_pred_flat, y_test_flat, average=\"macro\"))"
   ]
  },
  {
   "cell_type": "markdown",
   "id": "1c9ab687-fb84-45f8-a40e-4063f4508054",
   "metadata": {
    "id": "j9KIps2-SBc9"
   },
   "source": [
    "#### Recall = $\\frac{TP}{TP + FN}$\n",
    "\n",
    "Indica la relacion entre las predicciones positivas correctas con el total de predicciones incorrectas de otras clases (Todo lo que no se marco como SPAM cuando si era SPAM). *Todos los correos que en realidad eran SPAM*"
   ]
  },
  {
   "cell_type": "code",
   "execution_count": 114,
   "id": "75f8ca7d-88d7-4242-9953-cbc157ac7dd7",
   "metadata": {
    "colab": {
     "base_uri": "https://localhost:8080/"
    },
    "executionInfo": {
     "elapsed": 452,
     "status": "ok",
     "timestamp": 1695079373508,
     "user": {
      "displayName": "Diego Alberto Barriga Martínez",
      "userId": "06235177150913802056"
     },
     "user_tz": 360
    },
    "id": "Lq3kapblE0fB",
    "outputId": "837d3732-4447-4a0c-f17c-f713db84f900"
   },
   "outputs": [
    {
     "name": "stdout",
     "output_type": "stream",
     "text": [
      "0.969964437799256\n"
     ]
    }
   ],
   "source": [
    "from sklearn.metrics import recall_score\n",
    "print(recall_score(y_pred_flat, y_test_flat, average=\"macro\"))"
   ]
  },
  {
   "cell_type": "markdown",
   "id": "8740556e-9b0c-42db-83a5-97aaf7c9937b",
   "metadata": {
    "id": "StGfN2EoSCwK"
   },
   "source": [
    "#### F1-score = $\\frac{2PR}{P + R}$\n",
    "\n",
    "Es el promedio ponderado entre *precision* y *recall*. Toma en cuenta tanto los FP como los FN."
   ]
  },
  {
   "cell_type": "code",
   "execution_count": 115,
   "id": "2142a76d-0fb1-4840-8e45-67c184c68d0d",
   "metadata": {
    "colab": {
     "base_uri": "https://localhost:8080/"
    },
    "executionInfo": {
     "elapsed": 250,
     "status": "ok",
     "timestamp": 1695079482123,
     "user": {
      "displayName": "Diego Alberto Barriga Martínez",
      "userId": "06235177150913802056"
     },
     "user_tz": 360
    },
    "id": "qAu201jWFTDa",
    "outputId": "17247f9f-7738-4801-9307-2724cd1a3364"
   },
   "outputs": [
    {
     "name": "stdout",
     "output_type": "stream",
     "text": [
      "0.9698322789268278\n"
     ]
    }
   ],
   "source": [
    "from sklearn.metrics import f1_score\n",
    "print(f1_score(y_pred_flat, y_test_flat, average=\"macro\"))"
   ]
  },
  {
   "cell_type": "markdown",
   "id": "657eb4b8-d0cf-4115-b655-7fc6f23c9e0f",
   "metadata": {
    "id": "_zK3vWM0XtF_"
   },
   "source": [
    "#### Confussion Matrix para multi-class"
   ]
  },
  {
   "cell_type": "code",
   "execution_count": 116,
   "id": "1c32cf23-237c-4dec-b49d-bf32f4133718",
   "metadata": {
    "colab": {
     "base_uri": "https://localhost:8080/",
     "height": 705
    },
    "executionInfo": {
     "elapsed": 1098,
     "status": "ok",
     "timestamp": 1695079537012,
     "user": {
      "displayName": "Diego Alberto Barriga Martínez",
      "userId": "06235177150913802056"
     },
     "user_tz": 360
    },
    "id": "JMNMiL3FXv_M",
    "outputId": "4a0faaa8-a7b6-47ae-ac6a-ed19af6afbda"
   },
   "outputs": [
    {
     "name": "stdout",
     "output_type": "stream",
     "text": [
      "Confusion matrix:\n",
      "[[4818    1    0    0    0    0    0    1    0    0    0]\n",
      " [   0 2419    0   17    0    9  191    0    5   34    0]\n",
      " [   0    0 6565    0    7    0    4    0    0    1    0]\n",
      " [   0   26    9 1386   16    1   22    0    3   10    0]\n",
      " [   0    0    2    7 2086    0    2    0   50    2    0]\n",
      " [   0   13    0    3    0 5511   11    0   25    0    0]\n",
      " [   0  157    3   17    2    7 8756   17    5   41    0]\n",
      " [   0    3    0    0    0    1    7  389    0    0    0]\n",
      " [   0    0    0    7   48   33   10    0 1605    2    0]\n",
      " [   0   46    2    4    0    3   47    2    1 4400    0]\n",
      " [   0    0    0    0    0    0    0    0    0    0    4]]\n"
     ]
    },
    {
     "data": {
      "image/png": "[encoded data removed]",
      "text/plain": [
       "<Figure size 640x480 with 2 Axes>"
      ]
     },
     "metadata": {},
     "output_type": "display_data"
    }
   ],
   "source": [
    "from sklearn.metrics import ConfusionMatrixDisplay\n",
    "disp = ConfusionMatrixDisplay.from_predictions(y_test_flat, y_pred_flat)\n",
    "disp.figure_.suptitle(\"Confusion Matrix\")\n",
    "print(f\"Confusion matrix:\\n{disp.confusion_matrix}\")"
   ]
  },
  {
   "cell_type": "markdown",
   "id": "11493d79-5087-4325-a33f-c41460dcc740",
   "metadata": {
    "id": "pf3HJqO5Z0h0"
   },
   "source": [
    "#### Precision, recall y F1-score para multiclass\n",
    "\n",
    "\n",
    "- Macro avg: Calculo de la metrica de cada clase para despues se obtener el average no ponderado\n",
    "- Weighted avg : Calculo de las metricas de cada clase y obteniendo si average ponderado con la cantidad de instancias de cada clase (*support*)\n",
    "    - útil para datasets no balanceados"
   ]
  },
  {
   "cell_type": "code",
   "execution_count": 117,
   "id": "e542cf16-2028-4e59-b4ce-38517836c524",
   "metadata": {
    "colab": {
     "base_uri": "https://localhost:8080/"
    },
    "executionInfo": {
     "elapsed": 513,
     "status": "ok",
     "timestamp": 1695079740764,
     "user": {
      "displayName": "Diego Alberto Barriga Martínez",
      "userId": "06235177150913802056"
     },
     "user_tz": 360
    },
    "id": "YmDMnIvhaXY-",
    "outputId": "181bc0a5-68fd-4003-fb4d-36d4732ffcc8"
   },
   "outputs": [
    {
     "name": "stdout",
     "output_type": "stream",
     "text": [
      "              precision    recall  f1-score   support\n",
      "\n",
      "           .       1.00      1.00      1.00      4820\n",
      "         ADJ       0.91      0.90      0.91      2675\n",
      "         ADP       1.00      1.00      1.00      6577\n",
      "         ADV       0.96      0.94      0.95      1473\n",
      "        CONJ       0.97      0.97      0.97      2149\n",
      "         DET       0.99      0.99      0.99      5563\n",
      "        NOUN       0.97      0.97      0.97      9005\n",
      "         NUM       0.95      0.97      0.96       400\n",
      "        PRON       0.95      0.94      0.94      1705\n",
      "        VERB       0.98      0.98      0.98      4505\n",
      "           X       1.00      1.00      1.00         4\n",
      "\n",
      "    accuracy                           0.98     38876\n",
      "   macro avg       0.97      0.97      0.97     38876\n",
      "weighted avg       0.98      0.98      0.98     38876\n",
      "\n"
     ]
    }
   ],
   "source": [
    "report = classification_report(y_true=y_test_flat, y_pred=y_pred_flat)\n",
    "print(report)"
   ]
  },
  {
   "cell_type": "markdown",
   "id": "39d57be2-7dfb-456a-87c0-47046ace780a",
   "metadata": {
    "id": "PicCk34HyBdC"
   },
   "source": [
    "### Práctica 2: Niveles lingüísticos II\n",
    "**Fecha de entrega 10 de Marzo de 2024 11:59pm**"
   ]
  },
  {
   "cell_type": "markdown",
   "id": "5916ff0f-69ce-45a9-a206-a5b9abff8175",
   "metadata": {
    "id": "FtGVnqJRCrNa"
   },
   "source": [
    "\n",
    "\n",
    "- Implementar un etiquetador POS para el idioma otomí\n",
    "    - Escenario retador de bajos recursos lingüísticos (low-resources)\n",
    "    - Considerar que las feature functions **deben** cambiar (van acorde a la lengua)\n",
    "    - Pueden usar bibliotecas conocidas para la implementación\n",
    "- Reportar accurary, precision, recall y F1-score\n",
    "- Mostrar un ejemplo de oracion etiquetada (Debe ser una oracion del conjunto de pruebas). Formato libre"
   ]
  },
  {
   "cell_type": "markdown",
   "id": "e5e5cb81-3188-4e60-aa37-91844b971a89",
   "metadata": {},
   "source": [
    "#### Extra\n",
    "\n",
    "- Implementar un HMM para la misma tarea de etiquetado POS para el otomí\n",
    "- Comparar las siguientes medidas con los resultados obtenidos por el modelo CRF:\n",
    "  - accuracy\n",
    "  - precision\n",
    "  - recall\n",
    "  - F1-score\n",
    "- Hacer un análisis breve de los resultados\n",
    "    - ¿Qué diferencias encuentran entre trabajar con textos en español y en Otomí?\n",
    "    - ¿Se obtuvieron mejores resultados que con el español?\n",
    "    - ¿A qué modelo le fue mejor? ¿Porqué? "
   ]
  },
  {
   "cell_type": "markdown",
   "id": "5ad1f897-18a2-4c29-86a0-47e4eef61c3a",
   "metadata": {
    "id": "lUJ9Eoji7aQB"
   },
   "source": [
    "### Corpus\n",
    "\n",
    "- [DESCARGA 📕](https://drive.google.com/file/d/1ihr6gixN7NUkeq9MswJIdXV5Rda-hRFI/view?usp=drive_link)\n",
    "- Oraciones del Otomí de Toluca, variante de la región San Andrés Cuexcontitlan\n",
    "- Glosado manual por [Dr. Victor Mijangos de la Cruz](https://sites.google.com/site/victormijangoscruz/?pli=1)\n",
    "\n",
    "#### Estructura de cada línea\n",
    "\n",
    "```\n",
    "[[[CHUNK, GLOSS], [CHUNK, GLOSS],..., POS],...]\n",
    "  |---------------------------------|\n",
    "                WORD\n",
    "```\n",
    "\n",
    "##### Ejemplo\n",
    "\n",
    "```python\n",
    "[\n",
    "    [['por', 'stem'], 'obl'],\n",
    "    #   |      |        |\n",
    "    # CHUNK, GLOSS,    POS\n",
    "    [['eso', 'stem'], 'obl'],\n",
    "    [\n",
    "        ['n', 'psd'],\n",
    "        ['ga', '3.pls'],\n",
    "        ['má', 'ctrf'],\n",
    "        [\"'u̱n\", 'stem'],\n",
    "        ['gí', '1.obj'], 'v'] # ngamá'u̱ngí\n",
    "]\n",
    "```"
   ]
  },
  {
   "cell_type": "markdown",
   "id": "ece3969a-3651-433c-a8c8-2c2261c02e6c",
   "metadata": {},
   "source": [
    "#### NOTA\n",
    "\n",
    "El corpus tiene etiquetas no ascii y esto puede hacer que surgan problemas a la hora de entrenar el modelo. Hay varios enfoques que se pueden tomar para resolver este inconveniente. \n",
    "\n",
    "<img src=\"https://media.discordapp.net/attachments/1140411415254007866/1154645479871746068/image.png?ex=65ea9d66&is=65d82866&hm=21bd1f8a0c42e40b2c44757a6a2b34fd12a4f0b0398a114f404618aa7b27f56f&=&format=webp&quality=lossless\">\n",
    "\n",
    "1. Mapear las etiquetas a su version sin acento:\n",
    "\n",
    "`méxico -> mexico`\n",
    "\n",
    "2. Mapear las etiquetas a una categoría (perdida de información lingüística)\n",
    "\n",
    "  - `méxico -> N`\n",
    "  - `andrés -> N`"
   ]
  },
  {
   "cell_type": "markdown",
   "id": "64e1be9c-1cbb-461f-aca2-c66b7a1f734b",
   "metadata": {
    "id": "q0fj_UzMuKOU"
   },
   "source": [
    "##### Etiquetas y su significado\n",
    "\n",
    "![image.png](data:image/png;base64,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)\n",
    "\n",
    "![image.png](data:image/png;base64,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)"
   ]
  },
  {
   "cell_type": "markdown",
   "id": "e0eca7c3-fec5-4aa0-bc4b-bb10878a7148",
   "metadata": {
    "id": "NTU9sVByeZmd"
   },
   "source": [
    "## Referencias\n",
    "\n",
    "- [POS taggin using CRFs](https://towardsdatascience.com/pos-tagging-using-crfs-ea430c5fb78b)\n",
    "- [CRFs](https://www.davidsbatista.net/blog/2017/11/13/Conditional_Random_Fields/) ⭐\n",
    "- [Conditional Random Fields : Data Science Concepts](https://www.youtube.com/watch?v=rI3DQS0P2fk) 📹\n",
    "- [Multi-label metrics](https://www.kaggle.com/code/nkitgupta/evaluation-metrics-for-multi-class-classification) 📊"
   ]
  }
 ],
 "metadata": {
  "jupytext": {
   "formats": "ipynb,auto:light"
  },
  "kernelspec": {
   "display_name": "Python 3 (ipykernel)",
   "language": "python",
   "name": "python3"
  },
  "language_info": {
   "codemirror_mode": {
    "name": "ipython",
    "version": 3
   },
   "file_extension": ".py",
   "mimetype": "text/x-python",
   "name": "python",
   "nbconvert_exporter": "python",
   "pygments_lexer": "ipython3",
   "version": "3.9.18"
  }
 },
 "nbformat": 4,
 "nbformat_minor": 5
}
